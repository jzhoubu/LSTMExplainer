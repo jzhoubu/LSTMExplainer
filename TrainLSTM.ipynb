{
 "cells": [
  {
   "cell_type": "code",
   "execution_count": 1,
   "metadata": {},
   "outputs": [
    {
     "name": "stderr",
     "output_type": "stream",
     "text": [
      "Using TensorFlow backend.\n"
     ]
    }
   ],
   "source": [
    "import numpy as np\n",
    "import matplotlib.pyplot as plt\n",
    "plt.style.use('fivethirtyeight')\n",
    "import pandas as pd\n",
    "from sklearn.preprocessing import MinMaxScaler\n",
    "from keras.models import Sequential\n",
    "from keras.layers import Dense, LSTM, Dropout, GRU, Bidirectional\n",
    "from keras.optimizers import SGD\n",
    "import math\n",
    "from sklearn.metrics import mean_squared_error"
   ]
  },
  {
   "cell_type": "code",
   "execution_count": 37,
   "metadata": {},
   "outputs": [
    {
     "data": {
      "text/plain": [
       "'2.2.2'"
      ]
     },
     "execution_count": 37,
     "metadata": {},
     "output_type": "execute_result"
    },
    {
     "data": {
      "text/plain": [
       "'1.10.0'"
      ]
     },
     "execution_count": 37,
     "metadata": {},
     "output_type": "execute_result"
    },
    {
     "data": {
      "text/plain": [
       "'0.28.3'"
      ]
     },
     "execution_count": 37,
     "metadata": {},
     "output_type": "execute_result"
    }
   ],
   "source": [
    "import keras,tensorflow\n",
    "keras.__version__\n",
    "tensorflow.__version__\n",
    "shap.__version__"
   ]
  },
  {
   "cell_type": "code",
   "execution_count": 2,
   "metadata": {},
   "outputs": [],
   "source": [
    "def plot_predictions(test,predicted):\n",
    "    plt.plot(test, color='red',label='Real IBM Stock Price')\n",
    "    plt.plot(predicted, color='blue',label='Predicted IBM Stock Price')\n",
    "    plt.title('IBM Stock Price Prediction')\n",
    "    plt.xlabel('Time')\n",
    "    plt.ylabel('IBM Stock Price')\n",
    "    plt.legend()\n",
    "    plt.show()\n",
    "\n",
    "def return_rmse(test,predicted):\n",
    "    rmse = math.sqrt(mean_squared_error(test, predicted))\n",
    "    print(\"The root mean squared error is {}.\".format(rmse))"
   ]
  },
  {
   "cell_type": "code",
   "execution_count": 3,
   "metadata": {},
   "outputs": [
    {
     "data": {
      "text/html": [
       "<div>\n",
       "<style scoped>\n",
       "    .dataframe tbody tr th:only-of-type {\n",
       "        vertical-align: middle;\n",
       "    }\n",
       "\n",
       "    .dataframe tbody tr th {\n",
       "        vertical-align: top;\n",
       "    }\n",
       "\n",
       "    .dataframe thead th {\n",
       "        text-align: right;\n",
       "    }\n",
       "</style>\n",
       "<table border=\"1\" class=\"dataframe\">\n",
       "  <thead>\n",
       "    <tr style=\"text-align: right;\">\n",
       "      <th></th>\n",
       "      <th>Open</th>\n",
       "      <th>High</th>\n",
       "      <th>Low</th>\n",
       "      <th>Close</th>\n",
       "      <th>Volume</th>\n",
       "    </tr>\n",
       "    <tr>\n",
       "      <th>Date</th>\n",
       "      <th></th>\n",
       "      <th></th>\n",
       "      <th></th>\n",
       "      <th></th>\n",
       "      <th></th>\n",
       "    </tr>\n",
       "  </thead>\n",
       "  <tbody>\n",
       "    <tr>\n",
       "      <th>2006-01-03</th>\n",
       "      <td>82.45</td>\n",
       "      <td>82.55</td>\n",
       "      <td>80.81</td>\n",
       "      <td>82.06</td>\n",
       "      <td>11715200</td>\n",
       "    </tr>\n",
       "    <tr>\n",
       "      <th>2006-01-04</th>\n",
       "      <td>82.20</td>\n",
       "      <td>82.50</td>\n",
       "      <td>81.33</td>\n",
       "      <td>81.95</td>\n",
       "      <td>9840600</td>\n",
       "    </tr>\n",
       "    <tr>\n",
       "      <th>2006-01-05</th>\n",
       "      <td>81.40</td>\n",
       "      <td>82.90</td>\n",
       "      <td>81.00</td>\n",
       "      <td>82.50</td>\n",
       "      <td>7213500</td>\n",
       "    </tr>\n",
       "    <tr>\n",
       "      <th>2006-01-06</th>\n",
       "      <td>83.95</td>\n",
       "      <td>85.03</td>\n",
       "      <td>83.41</td>\n",
       "      <td>84.95</td>\n",
       "      <td>8197400</td>\n",
       "    </tr>\n",
       "    <tr>\n",
       "      <th>2006-01-09</th>\n",
       "      <td>84.10</td>\n",
       "      <td>84.25</td>\n",
       "      <td>83.38</td>\n",
       "      <td>83.73</td>\n",
       "      <td>6858200</td>\n",
       "    </tr>\n",
       "  </tbody>\n",
       "</table>\n",
       "</div>"
      ],
      "text/plain": [
       "             Open   High    Low  Close    Volume\n",
       "Date                                            \n",
       "2006-01-03  82.45  82.55  80.81  82.06  11715200\n",
       "2006-01-04  82.20  82.50  81.33  81.95   9840600\n",
       "2006-01-05  81.40  82.90  81.00  82.50   7213500\n",
       "2006-01-06  83.95  85.03  83.41  84.95   8197400\n",
       "2006-01-09  84.10  84.25  83.38  83.73   6858200"
      ]
     },
     "execution_count": 3,
     "metadata": {},
     "output_type": "execute_result"
    }
   ],
   "source": [
    "dataset = pd.read_csv('./data/IBM_2006-01-01_to_2018-01-01.csv', index_col='Date', parse_dates=['Date'])\n",
    "dataset = dataset.dropna(axis=0).iloc[:,:-1]\n",
    "dataset.head()"
   ]
  },
  {
   "cell_type": "code",
   "execution_count": 5,
   "metadata": {},
   "outputs": [
    {
     "data": {
      "text/plain": [
       "(2769, 4)"
      ]
     },
     "execution_count": 5,
     "metadata": {},
     "output_type": "execute_result"
    },
    {
     "data": {
      "text/plain": [
       "(250, 4)"
      ]
     },
     "execution_count": 5,
     "metadata": {},
     "output_type": "execute_result"
    }
   ],
   "source": [
    "training_set = dataset[:'2016'].iloc[:,:-1].values\n",
    "test_set = dataset['2017':].iloc[:,:-1].values\n",
    "\n",
    "sc = MinMaxScaler(feature_range=(0,1))\n",
    "training_set = sc.fit_transform(training_set)\n",
    "test_set = sc.fit_transform(test_set)\n",
    "\n",
    "\n",
    "training_set.shape\n",
    "test_set.shape"
   ]
  },
  {
   "cell_type": "code",
   "execution_count": 7,
   "metadata": {},
   "outputs": [
    {
     "data": {
      "text/plain": [
       "(2709, 60, 4)"
      ]
     },
     "execution_count": 7,
     "metadata": {},
     "output_type": "execute_result"
    },
    {
     "data": {
      "text/plain": [
       "(2709,)"
      ]
     },
     "execution_count": 7,
     "metadata": {},
     "output_type": "execute_result"
    }
   ],
   "source": [
    "# Since LSTMs store long term memory state, we create a data structure with 60 timesteps and 1 output\n",
    "# So for each element of training set, we have 60 previous training set elements \n",
    "X_train = []\n",
    "y_train = []\n",
    "for i in range(60,2769):\n",
    "    X_train.append(training_set[i-60:i,:])\n",
    "    y_train.append(training_set[i,0])\n",
    "X_train, y_train = np.array(X_train), np.array(y_train)\n",
    "\n",
    "X_train.shape\n",
    "y_train.shape"
   ]
  },
  {
   "cell_type": "code",
   "execution_count": 104,
   "metadata": {},
   "outputs": [],
   "source": [
    "# Reshaping X_train for efficient modelling\n",
    "# X_train = np.reshape(X_train, (X_train.shape[0],X_train.shape[1],1))"
   ]
  },
  {
   "cell_type": "code",
   "execution_count": 9,
   "metadata": {
    "scrolled": true
   },
   "outputs": [
    {
     "name": "stdout",
     "output_type": "stream",
     "text": [
      "Epoch 1/5\n",
      "2709/2709 [==============================] - 21s 8ms/step - loss: 0.0205\n",
      "Epoch 2/5\n",
      "2709/2709 [==============================] - 15s 6ms/step - loss: 0.0100\n",
      "Epoch 3/5\n",
      "2709/2709 [==============================] - 15s 6ms/step - loss: 0.0079: 2s -\n",
      "Epoch 4/5\n",
      "2709/2709 [==============================] - 15s 6ms/step - loss: 0.0070\n",
      "Epoch 5/5\n",
      "2709/2709 [==============================] - 17s 6ms/step - loss: 0.0063\n"
     ]
    },
    {
     "data": {
      "text/plain": [
       "<keras.callbacks.History at 0x1aad203b0b8>"
      ]
     },
     "execution_count": 9,
     "metadata": {},
     "output_type": "execute_result"
    }
   ],
   "source": [
    "# The LSTM architecture\n",
    "regressor = Sequential()\n",
    "# First LSTM layer with Dropout regularisation\n",
    "regressor.add(LSTM(units=50, return_sequences=True, input_shape=(X_train.shape[1],4)))\n",
    "regressor.add(Dropout(0.2))\n",
    "# Second LSTM layer\n",
    "regressor.add(LSTM(units=50, return_sequences=True))\n",
    "regressor.add(Dropout(0.2))\n",
    "# Third LSTM layer\n",
    "regressor.add(LSTM(units=50, return_sequences=True))\n",
    "regressor.add(Dropout(0.2))\n",
    "# Fourth LSTM layer\n",
    "regressor.add(LSTM(units=50))\n",
    "regressor.add(Dropout(0.2))\n",
    "# The output layer\n",
    "regressor.add(Dense(units=1))\n",
    "\n",
    "# Compiling the RNN\n",
    "regressor.compile(optimizer='rmsprop',loss='mean_squared_error')\n",
    "# Fitting to the training set\n",
    "regressor.fit(X_train,y_train,epochs=5,batch_size=32)"
   ]
  },
  {
   "cell_type": "code",
   "execution_count": 11,
   "metadata": {},
   "outputs": [
    {
     "data": {
      "text/plain": [
       "(310, 4)"
      ]
     },
     "execution_count": 11,
     "metadata": {},
     "output_type": "execute_result"
    }
   ],
   "source": [
    "# Now to get the test set ready in a similar way as the training set.\n",
    "# The following has been done so forst 60 entires of test set have 60 previous values which is impossible to get unless we take the whole \n",
    "# 'High' attribute data for processing\n",
    "dataset_total = pd.concat((dataset[:'2016'].iloc[:,:-1],dataset['2017':].iloc[:,:-1]),axis=0)\n",
    "inputs = dataset_total[len(dataset_total)-len(test_set) - 60:].values\n",
    "inputs.shape\n",
    "#inputs = inputs.reshape(-1,1)\n",
    "#inputs.shape\n",
    "inputs  = sc.fit_transform(inputs)"
   ]
  },
  {
   "cell_type": "code",
   "execution_count": 12,
   "metadata": {},
   "outputs": [
    {
     "data": {
      "text/plain": [
       "(310, 4)"
      ]
     },
     "execution_count": 12,
     "metadata": {},
     "output_type": "execute_result"
    }
   ],
   "source": [
    "inputs.shape"
   ]
  },
  {
   "cell_type": "code",
   "execution_count": 21,
   "metadata": {},
   "outputs": [
    {
     "data": {
      "text/plain": [
       "(2709, 60, 4)"
      ]
     },
     "execution_count": 21,
     "metadata": {},
     "output_type": "execute_result"
    },
    {
     "data": {
      "text/plain": [
       "(251, 60, 4)"
      ]
     },
     "execution_count": 21,
     "metadata": {},
     "output_type": "execute_result"
    }
   ],
   "source": [
    "# Preparing X_test and predicting the prices\n",
    "X_test = []\n",
    "for i in range(60,311):\n",
    "    X_test.append(inputs[i-60:i,:])\n",
    "X_test = np.array(X_test)\n",
    "X_train.shape\n",
    "X_test.shape\n",
    "#X_test = np.reshape(X_test, (X_test.shape[0],X_test.shape[1],4))\n",
    "predicted_stock_price = regressor.predict(X_test)\n",
    "#predicted_stock_price = sc.inverse_transform(predicted_stock_price)"
   ]
  },
  {
   "cell_type": "code",
   "execution_count": 22,
   "metadata": {},
   "outputs": [
    {
     "data": {
      "image/png": "[encoded data removed]",
      "text/plain": [
       "<matplotlib.figure.Figure at 0x1aadaf075f8>"
      ]
     },
     "metadata": {},
     "output_type": "display_data"
    }
   ],
   "source": [
    "plot_predictions(test_set,predicted_stock_price)\n"
   ]
  },
  {
   "cell_type": "code",
   "execution_count": null,
   "metadata": {},
   "outputs": [],
   "source": []
  },
  {
   "cell_type": "markdown",
   "metadata": {},
   "source": [
    "# SHAP"
   ]
  },
  {
   "cell_type": "code",
   "execution_count": 27,
   "metadata": {},
   "outputs": [],
   "source": [
    "import shap"
   ]
  },
  {
   "cell_type": "code",
   "execution_count": 24,
   "metadata": {},
   "outputs": [
    {
     "data": {
      "text/plain": [
       "(2709, 60, 4)"
      ]
     },
     "execution_count": 24,
     "metadata": {},
     "output_type": "execute_result"
    },
    {
     "data": {
      "text/plain": [
       "(251, 60, 4)"
      ]
     },
     "execution_count": 24,
     "metadata": {},
     "output_type": "execute_result"
    }
   ],
   "source": [
    "X_train.shape\n",
    "X_test.shape"
   ]
  },
  {
   "cell_type": "code",
   "execution_count": 28,
   "metadata": {
    "scrolled": true
   },
   "outputs": [],
   "source": [
    "explainer = shap.DeepExplainer(regressor, X_train[:50])"
   ]
  },
  {
   "cell_type": "code",
   "execution_count": 29,
   "metadata": {},
   "outputs": [],
   "source": [
    "shap_values = explainer.shap_values(X_test[:5])"
   ]
  },
  {
   "cell_type": "code",
   "execution_count": 38,
   "metadata": {},
   "outputs": [
    {
     "data": {
      "text/plain": [
       "(2709, 60, 4)"
      ]
     },
     "execution_count": 38,
     "metadata": {},
     "output_type": "execute_result"
    }
   ],
   "source": [
    "X_train.shape"
   ]
  },
  {
   "cell_type": "code",
   "execution_count": 30,
   "metadata": {},
   "outputs": [
    {
     "data": {
      "text/plain": [
       "0.07005064"
      ]
     },
     "execution_count": 30,
     "metadata": {},
     "output_type": "execute_result"
    }
   ],
   "source": [
    "explainer.expected_value[0]"
   ]
  },
  {
   "cell_type": "code",
   "execution_count": 41,
   "metadata": {},
   "outputs": [
    {
     "data": {
      "text/plain": [
       "(1, 5, 60, 4)"
      ]
     },
     "execution_count": 41,
     "metadata": {},
     "output_type": "execute_result"
    }
   ],
   "source": [
    "np.array(shap_values).shape"
   ]
  },
  {
   "cell_type": "code",
   "execution_count": 31,
   "metadata": {},
   "outputs": [
    {
     "data": {
      "text/html": [
       "\n",
       "<div id='iPYO310V6EFYKOB8L31WU'>\n",
       "<div style='color: #900; text-align: center;'>\n",
       "  <b>Visualization omitted, Javascript library not loaded!</b><br>\n",
       "  Have you run `initjs()` in this notebook? If this notebook was from another\n",
       "  user you must also trust this notebook (File -> Trust notebook). If you are viewing\n",
       "  this notebook on github the Javascript has been stripped for security. If you are using\n",
       "  JupyterLab this error is because a JupyterLab extension has not yet been written.\n",
       "</div></div>\n",
       " <script>\n",
       "   if (window.SHAP) SHAP.ReactDom.render(\n",
       "    SHAP.React.createElement(SHAP.AdditiveForceArrayVisualizer, {\"outNames\": [\"output value\"], \"baseValue\": 0.07005064189434052, \"link\": \"identity\", \"featureNames\": [\"Feature 0\", \"Feature 1\", \"Feature 2\", \"Feature 3\"], \"explanations\": [{\"outValue\": 0.07005126119918992, \"simIndex\": 1.0, \"features\": {\"0\": {\"effect\": 6.690547871689405e-07, \"value\": 0.4067436925253478}, \"1\": {\"effect\": -1.0344283989591472e-07, \"value\": 0.40146329950436677}, \"2\": {\"effect\": 6.273231072179936e-07, \"value\": 0.40105288346494383}, \"3\": {\"effect\": -5.736302050903683e-07, \"value\": 0.4066272189349114}}}, {\"outValue\": 0.07005161826866341, \"simIndex\": 2.0, \"features\": {\"0\": {\"effect\": 8.520522920166926e-07, \"value\": 0.41381749587361405}, \"1\": {\"effect\": -1.143703001039851e-07, \"value\": 0.4078357328298323}, \"2\": {\"effect\": 9.525555564453561e-07, \"value\": 0.3764058387173974}, \"3\": {\"effect\": -7.138632254714402e-07, \"value\": 0.3779881656804731}}}, {\"outValue\": 0.07005196475133245, \"simIndex\": 3.0, \"features\": {\"0\": {\"effect\": 1.1087777288083176e-06, \"value\": 0.4036783777410986}, \"1\": {\"effect\": -1.0671594037102285e-07, \"value\": 0.4264810007080486}, \"2\": {\"effect\": 1.000190477340829e-06, \"value\": 0.41947834410146}, \"3\": {\"effect\": -6.793952738461325e-07, \"value\": 0.40994082840236734}}}, {\"outValue\": 0.07005228605697202, \"simIndex\": 4.0, \"features\": {\"0\": {\"effect\": 1.2495727630120298e-06, \"value\": 0.40414996463098296}, \"1\": {\"effect\": -9.146804111942197e-08, \"value\": 0.3901345291479821}, \"2\": {\"effect\": 1.2073024236403667e-06, \"value\": 0.3531945441493183}, \"3\": {\"effect\": -7.212445140290538e-07, \"value\": 0.35715976331360944}}}, {\"outValue\": 0.07005268231786832, \"simIndex\": 5.0, \"features\": {\"0\": {\"effect\": 1.4304708546777516e-06, \"value\": 0.36265031832115024}, \"1\": {\"effect\": -8.04961243138869e-08, \"value\": 0.34340335142789735}, \"2\": {\"effect\": 1.4392800336090087e-06, \"value\": 0.33381191672649013}, \"3\": {\"effect\": -7.488312361707494e-07, \"value\": 0.34532544378698216}}}, {\"outValue\": 0.07005383573788834, \"simIndex\": 7.0, \"features\": {\"0\": {\"effect\": 1.9233849742628123e-06, \"value\": 0.33270455081348693}, \"1\": {\"effect\": -7.30821751820803e-08, \"value\": 0.3257021477460471}, \"2\": {\"effect\": 2.191337996160224e-06, \"value\": 0.314429289303662}, \"3\": {\"effect\": -8.477972474192788e-07, \"value\": 0.3318343195266271}}}, {\"outValue\": 0.07005493919084445, \"simIndex\": 8.0, \"features\": {\"0\": {\"effect\": 2.3976709583936935e-06, \"value\": 0.3508606460740391}, \"1\": {\"effect\": -4.07852481237193e-08, \"value\": 0.3566202501770124}, \"2\": {\"effect\": 2.8517984472300503e-06, \"value\": 0.35798037808088123}, \"3\": {\"effect\": -9.113876535688871e-07, \"value\": 0.34911242603550274}}}, {\"outValue\": 0.07005351661020734, \"simIndex\": 6.0, \"features\": {\"0\": {\"effect\": 1.8995128505496687e-06, \"value\": 0.3503890591841543}, \"1\": {\"effect\": 6.110886227278422e-09, \"value\": 0.3651168279443002}, \"2\": {\"effect\": 1.6136181362561316e-06, \"value\": 0.36396267049533426}, \"3\": {\"effect\": -6.445260062033496e-07, \"value\": 0.3566863905325448}}}, {\"outValue\": 0.0700559505958762, \"simIndex\": 9.0, \"features\": {\"0\": {\"effect\": 2.7132168560056513e-06, \"value\": 0.24593256307474665}, \"1\": {\"effect\": 6.990803541395658e-08, \"value\": 0.24970497993863594}, \"2\": {\"effect\": 3.2017613200546924e-06, \"value\": 0.2072266092366597}, \"3\": {\"effect\": -6.761846757914276e-07, \"value\": 0.2608284023668639}}}, {\"outValue\": 0.07005759134144242, \"simIndex\": 10.0, \"features\": {\"0\": {\"effect\": 3.3241755112172217e-06, \"value\": 0.2754067436925256}, \"1\": {\"effect\": 1.7962959444179773e-07, \"value\": 0.28392730705687974}, \"2\": {\"effect\": 4.109432383242017e-06, \"value\": 0.2799712849964111}, \"3\": {\"effect\": -6.637903870036729e-07, \"value\": 0.2736094674556213}}}, {\"outValue\": 0.07005841503317495, \"simIndex\": 11.0, \"features\": {\"0\": {\"effect\": 3.732308241987655e-06, \"value\": 0.27564253713746734}, \"1\": {\"effect\": 2.7308247049852687e-07, \"value\": 0.29454802926599033}, \"2\": {\"effect\": 4.24979886140635e-06, \"value\": 0.2845178272313955}, \"3\": {\"effect\": -4.82050739463804e-07, \"value\": 0.2797633136094677}}}, {\"outValue\": 0.07006100255905634, \"simIndex\": 12.0, \"features\": {\"0\": {\"effect\": 4.416920944362956e-06, \"value\": 0.25913699599151174}, \"1\": {\"effect\": 4.7573933625698506e-07, \"value\": 0.25324522067500643}, \"2\": {\"effect\": 5.913309914529477e-06, \"value\": 0.24958123953098887}, \"3\": {\"effect\": -4.4530547931803744e-07, \"value\": 0.2350295857988165}}}, {\"outValue\": 0.07006331931445588, \"simIndex\": 13.0, \"features\": {\"0\": {\"effect\": 5.4992072312119415e-06, \"value\": 0.2548927139825512}, \"1\": {\"effect\": 7.094617964303375e-07, \"value\": 0.2619778144913858}, \"2\": {\"effect\": 6.786608593228495e-06, \"value\": 0.2696817420435518}, \"3\": {\"effect\": -3.178575055086781e-07, \"value\": 0.25727810650887584}}}, {\"outValue\": 0.07006721466321682, \"simIndex\": 14.0, \"features\": {\"0\": {\"effect\": 6.583244424121533e-06, \"value\": 0.2617307238858757}, \"1\": {\"effect\": 1.2899923337730416e-06, \"value\": 0.2534812367240975}, \"2\": {\"effect\": 8.81872633888559e-06, \"value\": 0.25604211533859855}, \"3\": {\"effect\": -1.191942204753118e-07, \"value\": 0.2646153846153845}}}, {\"outValue\": 0.07007586147425118, \"simIndex\": 15.0, \"features\": {\"0\": {\"effect\": 9.735891916689903e-06, \"value\": 0.2622023107757605}, \"1\": {\"effect\": 2.0549914790068643e-06, \"value\": 0.2954920934623555}, \"2\": {\"effect\": 1.31977335324393e-05, \"value\": 0.26633165829145744}, \"3\": {\"effect\": 2.309629825305086e-07, \"value\": 0.2866272189349113}}}, {\"outValue\": 0.07008320706189022, \"simIndex\": 16.0, \"features\": {\"0\": {\"effect\": 1.2786785475664259e-05, \"value\": 0.3119547276585708}, \"1\": {\"effect\": 2.9597856090291e-06, \"value\": 0.32192589096058555}, \"2\": {\"effect\": 1.6242960863660788e-05, \"value\": 0.3084469968892085}, \"3\": {\"effect\": 5.756356013597859e-07, \"value\": 0.3230769230769228}}}, {\"outValue\": 0.07008977152394888, \"simIndex\": 17.0, \"features\": {\"0\": {\"effect\": 1.3297151356654232e-05, \"value\": 0.3409573213864654}, \"1\": {\"effect\": 3.978783288969881e-06, \"value\": 0.3308945008260564}, \"2\": {\"effect\": 2.073966707626126e-05, \"value\": 0.3122756640344586}, \"3\": {\"effect\": 1.1140278864783657e-06, \"value\": 0.3055621301775151}}}, {\"outValue\": 0.07009600303437201, \"simIndex\": 18.0, \"features\": {\"0\": {\"effect\": 1.6501818659199516e-05, \"value\": 0.3105399669889173}, \"1\": {\"effect\": 5.111402345550479e-06, \"value\": 0.328298324286052}, \"2\": {\"effect\": 2.2318481502581214e-05, \"value\": 0.3261545824359895}, \"3\": {\"effect\": 1.4294375241612308e-06, \"value\": 0.3311242603550295}}}, {\"outValue\": 0.07010227808168461, \"simIndex\": 19.0, \"features\": {\"0\": {\"effect\": 1.726536646033235e-05, \"value\": 0.3279886819146425}, \"1\": {\"effect\": 6.370330617042598e-06, \"value\": 0.3183856502242155}, \"2\": {\"effect\": 2.6330438060415267e-05, \"value\": 0.30174682938502073}, \"3\": {\"effect\": 1.6700522063018914e-06, \"value\": 0.3098224852071003}}}, {\"outValue\": 0.07011275584311544, \"simIndex\": 20.0, \"features\": {\"0\": {\"effect\": 1.980397382949708e-05, \"value\": 0.30393775053053496}, \"1\": {\"effect\": 8.623231931230262e-06, \"value\": 0.3049327354260094}, \"2\": {\"effect\": 3.157351553904061e-05, \"value\": 0.30007178750897356}, \"3\": {\"effect\": 2.113227475160238e-06, \"value\": 0.2899408284023668}}}, {\"outValue\": 0.07012371876306235, \"simIndex\": 21.0, \"features\": {\"0\": {\"effect\": 2.2305321231570556e-05, \"value\": 0.3046451308653615}, \"1\": {\"effect\": 1.0995809487465403e-05, \"value\": 0.31437337738966287}, \"2\": {\"effect\": 3.739596284206414e-05, \"value\": 0.3031825795644898}, \"3\": {\"effect\": 2.3797751607334477e-06, \"value\": 0.2998816568047338}}}, {\"outValue\": 0.07015366724936548, \"simIndex\": 22.0, \"features\": {\"0\": {\"effect\": 2.9251811727100743e-05, \"value\": 0.30205140297099753}, \"1\": {\"effect\": 1.7297150756283448e-05, \"value\": 0.31201321689874906}, \"2\": {\"effect\": 5.291970477749167e-05, \"value\": 0.3048576214405365}, \"3\": {\"effect\": 3.556687764080272e-06, \"value\": 0.30130177514792944}}}, {\"outValue\": 0.07016679396182757, \"simIndex\": 23.0, \"features\": {\"0\": {\"effect\": 3.459066359759669e-05, \"value\": 0.3395425607168119}, \"1\": {\"effect\": 2.1410764662254648e-05, \"value\": 0.37030918102431043}, \"2\": {\"effect\": 5.70729043259204e-05, \"value\": 0.35199808566642776}, \"3\": {\"effect\": 3.077734901285278e-06, \"value\": 0.37917159763313624}}}, {\"outValue\": 0.07016511144532737, \"simIndex\": 24.0, \"features\": {\"0\": {\"effect\": 3.375761883470742e-05, \"value\": 0.35298278707851916}, \"1\": {\"effect\": 2.591085834117183e-05, \"value\": 0.36606089214066584}, \"2\": {\"effect\": 5.277625821228447e-05, \"value\": 0.3333333333333339}, \"3\": {\"effect\": 2.0248155986969803e-06, \"value\": 0.36615384615384583}}}, {\"outValue\": 0.07026098421222889, \"simIndex\": 25.0, \"features\": {\"0\": {\"effect\": 5.4301188424734915e-05, \"value\": 0.3152558358877622}, \"1\": {\"effect\": 4.662144437075336e-05, \"value\": 0.3573282983242865}, \"2\": {\"effect\": 0.00010746042404827225, \"value\": 0.2840392438382393}, \"3\": {\"effect\": 1.959261044603318e-06, \"value\": 0.3576331360946745}}}, {\"outValue\": 0.07031212056469636, \"simIndex\": 26.0, \"features\": {\"0\": {\"effect\": 6.970584866192325e-05, \"value\": 0.42607875501061043}, \"1\": {\"effect\": 5.71421884548808e-05, \"value\": 0.48949728581543583}, \"2\": {\"effect\": 0.00013603312499114943, \"value\": 0.4417324718832263}, \"3\": {\"effect\": -1.4024917521021954e-06, \"value\": 0.4856804733727813}}}, {\"outValue\": 0.07033479828829367, \"simIndex\": 27.0, \"features\": {\"0\": {\"effect\": 8.29886950472294e-05, \"value\": 0.4805470407922656}, \"1\": {\"effect\": 7.097107816764682e-05, \"value\": 0.49374557469908}, \"2\": {\"effect\": 0.00013687466225830344, \"value\": 0.4833692270878207}, \"3\": {\"effect\": -6.6780415200259e-06, \"value\": 0.5105325443786985}}}, {\"outValue\": 0.0703402287505862, \"simIndex\": 28.0, \"features\": {\"0\": {\"effect\": 7.827002685789138e-05, \"value\": 0.5107286017448711}, \"1\": {\"effect\": 7.254632776138328e-05, \"value\": 0.5060184092518298}, \"2\": {\"effect\": 0.00015288115737213402, \"value\": 0.4414931801866482}, \"3\": {\"effect\": -1.4110655745727435e-05, \"value\": 0.4381065088757401}}}, {\"outValue\": 0.07037829328130245, \"simIndex\": 29.0, \"features\": {\"0\": {\"effect\": 8.740656710203708e-05, \"value\": 0.44399905682621954}, \"1\": {\"effect\": 8.894710944850976e-05, \"value\": 0.442058059948077}, \"2\": {\"effect\": 0.00017533835114454357, \"value\": 0.44077530509691387}, \"3\": {\"effect\": -2.4040640733162653e-05, \"value\": 0.44899408284023634}}}, {\"outValue\": 0.07043009151847504, \"simIndex\": 30.0, \"features\": {\"0\": {\"effect\": 0.00010311290976661465, \"value\": 0.44494223060598914}, \"1\": {\"effect\": 0.00010832307362062339, \"value\": 0.45149870191173047}, \"2\": {\"effect\": 0.00020436692819516967, \"value\": 0.4522613065326637}, \"3\": {\"effect\": -3.63532874478889e-05, \"value\": 0.4636686390532545}}}, {\"outValue\": 0.07048722791145076, \"simIndex\": 31.0, \"features\": {\"0\": {\"effect\": 0.0001222323442226197, \"value\": 0.4628625324215987}, \"1\": {\"effect\": 0.00013461346680485303, \"value\": 0.46046731177720135}, \"2\": {\"effect\": 0.00023092741518725352, \"value\": 0.47188322565206997}, \"3\": {\"effect\": -5.118720910447336e-05, \"value\": 0.47573964497041477}}}, {\"outValue\": 0.07058269712112539, \"simIndex\": 32.0, \"features\": {\"0\": {\"effect\": 0.00015069414014661539, \"value\": 0.47653855222824815}, \"1\": {\"effect\": 0.00018066964658096797, \"value\": 0.47911257965541676}, \"2\": {\"effect\": 0.0002739630486866757, \"value\": 0.480497726728883}, \"3\": {\"effect\": -7.327160862939344e-05, \"value\": 0.489704142011834}}}, {\"outValue\": 0.07071229692134676, \"simIndex\": 33.0, \"features\": {\"0\": {\"effect\": 0.00020310227181272997, \"value\": 0.49752416882810646}, \"1\": {\"effect\": 0.00021378481018661345, \"value\": 0.532924238848242}, \"2\": {\"effect\": 0.00033215239330361456, \"value\": 0.5082555635319461}, \"3\": {\"effect\": -8.738444829671163e-05, \"value\": 0.5460355029585804}}}, {\"outValue\": 0.07079887277734928, \"simIndex\": 34.0, \"features\": {\"0\": {\"effect\": 0.00023650086092458306, \"value\": 0.5519924546097617}, \"1\": {\"effect\": 0.00024564841683639727, \"value\": 0.532924238848242}, \"2\": {\"effect\": 0.000361576407770439, \"value\": 0.54606365159129}, \"3\": {\"effect\": -9.549480252264974e-05, \"value\": 0.5436686390532541}}}, {\"outValue\": 0.07097139079006057, \"simIndex\": 35.0, \"features\": {\"0\": {\"effect\": 0.0002956754087874293, \"value\": 0.526998349445885}, \"1\": {\"effect\": 0.00030576824239535806, \"value\": 0.5182912438045788}, \"2\": {\"effect\": 0.00042173947664575994, \"value\": 0.531945441493181}, \"3\": {\"effect\": -0.00010243423210848806, \"value\": 0.5273372781065087}}}, {\"outValue\": 0.07126910522743785, \"simIndex\": 36.0, \"features\": {\"0\": {\"effect\": 0.0004058457458695793, \"value\": 0.524404621551521}, \"1\": {\"effect\": 0.0003946348411454001, \"value\": 0.5374085437809772}, \"2\": {\"effect\": 0.000510651302595008, \"value\": 0.5431921512323528}, \"3\": {\"effect\": -9.266855651265444e-05, \"value\": 0.5547928994082838}}}, {\"outValue\": 0.07163250914239398, \"simIndex\": 37.0, \"features\": {\"0\": {\"effect\": 0.0005473421377320829, \"value\": 0.5567083235086061}, \"1\": {\"effect\": 0.000470852241432181, \"value\": 0.5721029029974041}, \"2\": {\"effect\": 0.0006121809049253926, \"value\": 0.5640105288346495}, \"3\": {\"effect\": -4.8508036036191335e-05, \"value\": 0.5874556213017756}}}, {\"outValue\": 0.07203373178403112, \"simIndex\": 38.0, \"features\": {\"0\": {\"effect\": 0.0006958934992694113, \"value\": 0.5755717991039848}, \"1\": {\"effect\": 0.0005556453640410651, \"value\": 0.5662025017701207}, \"2\": {\"effect\": 0.000705885187673084, \"value\": 0.5719071548217283}, \"3\": {\"effect\": 2.5665838707050664e-05, \"value\": 0.5640236686390532}}}, {\"outValue\": 0.07234487518847235, \"simIndex\": 39.0, \"features\": {\"0\": {\"effect\": 0.0008540824114450979, \"value\": 0.5602452251827397}, \"1\": {\"effect\": 0.0006267258588372397, \"value\": 0.5518055227755494}, \"2\": {\"effect\": 0.0006886877008902121, \"value\": 0.5522852357023216}, \"3\": {\"effect\": 0.00012473732295928782, \"value\": 0.53301775147929}}}, {\"outValue\": 0.0728544238990609, \"simIndex\": 40.0, \"features\": {\"0\": {\"effect\": 0.0009587642076461131, \"value\": 0.5272341428908272}, \"1\": {\"effect\": 0.0006950759618170897, \"value\": 0.5140429549209347}, \"2\": {\"effect\": 0.000860308515186209, \"value\": 0.4587221823402734}, \"3\": {\"effect\": 0.000289633320070968, \"value\": 0.4762130177514794}}}, {\"outValue\": 0.07405443411081111, \"simIndex\": 42.0, \"features\": {\"0\": {\"effect\": 0.001404072150321248, \"value\": 0.45767507663286944}, \"1\": {\"effect\": 0.0009066616970845314, \"value\": 0.4689638895444892}, \"2\": {\"effect\": 0.0011639626635078996, \"value\": 0.46135439100263254}, \"3\": {\"effect\": 0.0005290957055569259, \"value\": 0.4809467455621306}}}, {\"outValue\": 0.07522157477446491, \"simIndex\": 43.0, \"features\": {\"0\": {\"effect\": 0.0017642413740688897, \"value\": 0.5012968639471818}, \"1\": {\"effect\": 0.0011070798427409957, \"value\": 0.4892612697663443}, \"2\": {\"effect\": 0.0014152717802092584, \"value\": 0.48959081119885184}, \"3\": {\"effect\": 0.0008843398831052445, \"value\": 0.47668639053254447}}}, {\"outValue\": 0.07778090265642319, \"simIndex\": 44.0, \"features\": {\"0\": {\"effect\": 0.002353654013687556, \"value\": 0.48431973591134136}, \"1\": {\"effect\": 0.0017292345291251036, \"value\": 0.480764691999056}, \"2\": {\"effect\": 0.0019629055963324956, \"value\": 0.47379755922469524}, \"3\": {\"effect\": 0.0016844666229375185, \"value\": 0.4887573964497043}}}, {\"outValue\": 0.0815136945340419, \"simIndex\": 45.0, \"features\": {\"0\": {\"effect\": 0.0037115489665014777, \"value\": 0.4954020278236264}, \"1\": {\"effect\": 0.002238647627223764, \"value\": 0.5843757375501539}, \"2\": {\"effect\": 0.003022803752019066, \"value\": 0.5087341469251019}, \"3\": {\"effect\": 0.002490052293957081, \"value\": 0.5938461538461537}}}, {\"outValue\": 0.08506517653217434, \"simIndex\": 47.0, \"features\": {\"0\": {\"effect\": 0.004723317271811515, \"value\": 0.5960858288139588}, \"1\": {\"effect\": 0.0028574524009301445, \"value\": 0.6037290535756434}, \"2\": {\"effect\": 0.003843820244913438, \"value\": 0.6003828667145252}, \"3\": {\"effect\": 0.0035899447201787225, \"value\": 0.6073372781065092}}}, {\"outValue\": 0.08915547040087624, \"simIndex\": 48.0, \"features\": {\"0\": {\"effect\": 0.0062151399983940495, \"value\": 0.6033954256071681}, \"1\": {\"effect\": 0.0035072409628326396, \"value\": 0.6207222091102196}, \"2\": {\"effect\": 0.004834364741007591, \"value\": 0.609475951184494}, \"3\": {\"effect\": 0.004548082804301442, \"value\": 0.6347928994082843}}}, {\"outValue\": 0.09461949491127225, \"simIndex\": 50.0, \"features\": {\"0\": {\"effect\": 0.007211986286941447, \"value\": 0.6397076161282715}, \"1\": {\"effect\": 0.004791852415216884, \"value\": 0.6223743214538588}, \"2\": {\"effect\": 0.006020767493108682, \"value\": 0.6207226609236662}, \"3\": {\"effect\": 0.0065442468216647285, \"value\": 0.6106508875739647}}}, {\"outValue\": 0.10120136794548909, \"simIndex\": 51.0, \"features\": {\"0\": {\"effect\": 0.009540433661917898, \"value\": 0.6151850978542797}, \"1\": {\"effect\": 0.00568311063785727, \"value\": 0.6969553929667214}, \"2\": {\"effect\": 0.007713571186146304, \"value\": 0.6353194544149323}, \"3\": {\"effect\": 0.00821361056522711, \"value\": 0.6766863905325442}}}, {\"outValue\": 0.10634128569891949, \"simIndex\": 53.0, \"features\": {\"0\": {\"effect\": 0.01090209115841339, \"value\": 0.6786135345437398}, \"1\": {\"effect\": 0.006603237593417189, \"value\": 0.6955392966721741}, \"2\": {\"effect\": 0.009076796661431952, \"value\": 0.677674084709261}, \"3\": {\"effect\": 0.009708518391316432, \"value\": 0.68189349112426}}}, {\"outValue\": 0.11049014746414391, \"simIndex\": 54.0, \"features\": {\"0\": {\"effect\": 0.012784419739654884, \"value\": 0.6701249705258192}, \"1\": {\"effect\": 0.007314864104255247, \"value\": 0.6945952324758089}, \"2\": {\"effect\": 0.009576050023881046, \"value\": 0.6855707106963389}, \"3\": {\"effect\": 0.01076417170201222, \"value\": 0.6702958579881662}}}, {\"outValue\": 0.11322309852849358, \"simIndex\": 56.0, \"features\": {\"0\": {\"effect\": 0.01294815247876252, \"value\": 0.6927611412402732}, \"1\": {\"effect\": 0.007540450509596146, \"value\": 0.6771300448430497}, \"2\": {\"effect\": 0.010527340118452305, \"value\": 0.6444125388849011}, \"3\": {\"effect\": 0.012156513527342096, \"value\": 0.6397633136094671}}}, {\"outValue\": 0.11805233769980124, \"simIndex\": 59.0, \"features\": {\"0\": {\"effect\": 0.014239773303212168, \"value\": 0.6423013440226364}, \"1\": {\"effect\": 0.008468103957125949, \"value\": 0.633467075761152}, \"2\": {\"effect\": 0.011479558789267048, \"value\": 0.6429767887054325}, \"3\": {\"effect\": 0.01381425975585555, \"value\": 0.6385798816568049}}}, {\"outValue\": 0.11832467942608954, \"simIndex\": 58.0, \"features\": {\"0\": {\"effect\": 0.013973358838098004, \"value\": 0.6578637113888233}, \"1\": {\"effect\": 0.008717325847929952, \"value\": 0.6568326646211946}, \"2\": {\"effect\": 0.011225109379590465, \"value\": 0.653744915051448}, \"3\": {\"effect\": 0.014358243466130611, \"value\": 0.6603550295857987}}}, {\"outValue\": 0.11936765986729286, \"simIndex\": 60.0, \"features\": {\"0\": {\"effect\": 0.014485640608505292, \"value\": 0.6286253242159865}, \"1\": {\"effect\": 0.00882920713256117, \"value\": 0.649516167099363}, \"2\": {\"effect\": 0.011729180026742735, \"value\": 0.6250299114620725}, \"3\": {\"effect\": 0.01427299020514315, \"value\": 0.6539644970414207}}}, {\"outValue\": 0.11585845923176989, \"simIndex\": 57.0, \"features\": {\"0\": {\"effect\": 0.013413631786033694, \"value\": 0.6547983966045745}, \"1\": {\"effect\": 0.008146229726884658, \"value\": 0.6563606325230116}, \"2\": {\"effect\": 0.010892198828868079, \"value\": 0.6568557071069643}, \"3\": {\"effect\": 0.013355756995642943, \"value\": 0.6475739644970417}}}, {\"outValue\": 0.11087330865337233, \"simIndex\": 55.0, \"features\": {\"0\": {\"effect\": 0.011771882822689985, \"value\": 0.6463098325866539}, \"1\": {\"effect\": 0.007377268211799073, \"value\": 0.6388954448902529}, \"2\": {\"effect\": 0.009644188437330559, \"value\": 0.653744915051448}, \"3\": {\"effect\": 0.012029327287212193, \"value\": 0.6392899408284025}}}, {\"outValue\": 0.10215969483145665, \"simIndex\": 52.0, \"features\": {\"0\": {\"effect\": 0.009542685226091386, \"value\": 0.6458382456967691}, \"1\": {\"effect\": 0.005914650942594224, \"value\": 0.6504602312957282}, \"2\": {\"effect\": 0.00736348843247011, \"value\": 0.6633165829145731}, \"3\": {\"effect\": 0.009288228335960417, \"value\": 0.6494674556213016}}}, {\"outValue\": 0.09210823311212496, \"simIndex\": 49.0, \"features\": {\"0\": {\"effect\": 0.0063295327056377745, \"value\": 0.6531478424899784}, \"1\": {\"effect\": 0.004045989016550728, \"value\": 0.6447958461175363}, \"2\": {\"effect\": 0.005075199304820148, \"value\": 0.6429767887054325}, \"3\": {\"effect\": 0.006606870190775796, \"value\": 0.6269822485207102}}}, {\"outValue\": 0.08221044874394443, \"simIndex\": 46.0, \"features\": {\"0\": {\"effect\": 0.0035965883610565757, \"value\": 0.6232020749823155}, \"1\": {\"effect\": 0.002250434006607489, \"value\": 0.627094642435686}, \"2\": {\"effect\": 0.002729119866765023, \"value\": 0.6429767887054325}, \"3\": {\"effect\": 0.003583664615174818, \"value\": 0.6366863905325442}}}, {\"outValue\": 0.07443303171173149, \"simIndex\": 41.0, \"features\": {\"0\": {\"effect\": 0.0012863427992165608, \"value\": 0.6331053996698888}, \"1\": {\"effect\": 0.0008287977175543114, \"value\": 0.620250177012037}, \"2\": {\"effect\": 0.0009596703812777857, \"value\": 0.631012203876526}, \"3\": {\"effect\": 0.0013075789193423204, \"value\": 0.6222485207100594}}}], \"plot_cmap\": \"RdBu\", \"ordering_keys\": null, \"ordering_keys_time_format\": null}),\n",
       "    document.getElementById('iPYO310V6EFYKOB8L31WU')\n",
       "  );\n",
       "</script>"
      ],
      "text/plain": [
       "<IPython.core.display.HTML object>"
      ]
     },
     "execution_count": 31,
     "metadata": {},
     "output_type": "execute_result"
    }
   ],
   "source": [
    "shap.force_plot(explainer.expected_value[0], shap_values[0][1], X_test[0])"
   ]
  },
  {
   "cell_type": "code",
   "execution_count": 32,
   "metadata": {},
   "outputs": [
    {
     "data": {
      "text/html": [
       "\n",
       "<div id='i3B6O6UTJ1A7082PYL1K0'>\n",
       "<div style='color: #900; text-align: center;'>\n",
       "  <b>Visualization omitted, Javascript library not loaded!</b><br>\n",
       "  Have you run `initjs()` in this notebook? If this notebook was from another\n",
       "  user you must also trust this notebook (File -> Trust notebook). If you are viewing\n",
       "  this notebook on github the Javascript has been stripped for security. If you are using\n",
       "  JupyterLab this error is because a JupyterLab extension has not yet been written.\n",
       "</div></div>\n",
       " <script>\n",
       "   if (window.SHAP) SHAP.ReactDom.render(\n",
       "    SHAP.React.createElement(SHAP.AdditiveForceArrayVisualizer, {\"outNames\": [\"output value\"], \"baseValue\": 0.07005064189434052, \"link\": \"identity\", \"featureNames\": [\"Feature 0\", \"Feature 1\", \"Feature 2\", \"Feature 3\"], \"explanations\": [{\"outValue\": 0.07005127873940159, \"simIndex\": 60.0, \"features\": {\"0\": {\"effect\": 6.44070914475143e-07, \"value\": 0.4067436925253478}, \"1\": {\"effect\": -1.0774944346417849e-07, \"value\": 0.40146329950436677}, \"2\": {\"effect\": 7.268690723133056e-07, \"value\": 0.40105288346494383}, \"3\": {\"effect\": -6.263454822490905e-07, \"value\": 0.4066272189349114}}}, {\"outValue\": 0.07005154858761066, \"simIndex\": 59.0, \"features\": {\"0\": {\"effect\": 8.476859904438893e-07, \"value\": 0.41381749587361405}, \"1\": {\"effect\": -1.0363406273439113e-07, \"value\": 0.4078357328298323}, \"2\": {\"effect\": 7.681054119326772e-07, \"value\": 0.3764058387173974}, \"3\": {\"effect\": -6.054640695028517e-07, \"value\": 0.3779881656804731}}}, {\"outValue\": 0.07005179455985729, \"simIndex\": 58.0, \"features\": {\"0\": {\"effect\": 9.653703007909563e-07, \"value\": 0.4036783777410986}, \"1\": {\"effect\": -9.281920885417314e-08, \"value\": 0.4264810007080486}, \"2\": {\"effect\": 9.334463662382067e-07, \"value\": 0.41947834410146}, \"3\": {\"effect\": -6.533319414107796e-07, \"value\": 0.40994082840236734}}}, {\"outValue\": 0.07005209745955245, \"simIndex\": 57.0, \"features\": {\"0\": {\"effect\": 1.1145543444196594e-06, \"value\": 0.40414996463098296}, \"1\": {\"effect\": -8.775420913760124e-08, \"value\": 0.3901345291479821}, \"2\": {\"effect\": 1.1184645300203689e-06, \"value\": 0.3531945441493183}, \"3\": {\"effect\": -6.896994533760103e-07, \"value\": 0.35715976331360944}}}, {\"outValue\": 0.07005297531598068, \"simIndex\": 55.0, \"features\": {\"0\": {\"effect\": 1.5110313358543393e-06, \"value\": 0.36265031832115024}, \"1\": {\"effect\": -9.184473749065304e-08, \"value\": 0.34340335142789735}, \"2\": {\"effect\": 1.712471801418343e-06, \"value\": 0.33381191672649013}, \"3\": {\"effect\": -7.98236759620762e-07, \"value\": 0.34532544378698216}}}, {\"outValue\": 0.07005382883682665, \"simIndex\": 54.0, \"features\": {\"0\": {\"effect\": 1.9006605091281454e-06, \"value\": 0.33270455081348693}, \"1\": {\"effect\": -7.638886153729203e-08, \"value\": 0.3257021477460471}, \"2\": {\"effect\": 2.240697356004706e-06, \"value\": 0.314429289303662}, \"3\": {\"effect\": -8.780265174608372e-07, \"value\": 0.3318343195266271}}}, {\"outValue\": 0.07005276701108558, \"simIndex\": 56.0, \"features\": {\"0\": {\"effect\": 1.5156817801287237e-06, \"value\": 0.3508606460740391}, \"1\": {\"effect\": -2.9895789557257e-08, \"value\": 0.3566202501770124}, \"2\": {\"effect\": 1.2740158253811057e-06, \"value\": 0.35798037808088123}, \"3\": {\"effect\": -6.346850708839052e-07, \"value\": 0.34911242603550274}}}, {\"outValue\": 0.07005467949790459, \"simIndex\": 53.0, \"features\": {\"0\": {\"effect\": 2.1825859696832023e-06, \"value\": 0.3503890591841543}, \"1\": {\"effect\": 3.4828999780841905e-09, \"value\": 0.3651168279443002}, \"2\": {\"effect\": 2.541426961181982e-06, \"value\": 0.36396267049533426}, \"3\": {\"effect\": -6.89892266773436e-07, \"value\": 0.3566863905325448}}}, {\"outValue\": 0.07005598530370075, \"simIndex\": 52.0, \"features\": {\"0\": {\"effect\": 2.695256907724784e-06, \"value\": 0.24593256307474665}, \"1\": {\"effect\": 7.496562946782068e-08, \"value\": 0.24970497993863594}, \"2\": {\"effect\": 3.2809388196654283e-06, \"value\": 0.2072266092366597}, \"3\": {\"effect\": -7.077519966330095e-07, \"value\": 0.2608284023668639}}}, {\"outValue\": 0.07005670557218754, \"simIndex\": 51.0, \"features\": {\"0\": {\"effect\": 3.047853410399189e-06, \"value\": 0.2754067436925256}, \"1\": {\"effect\": 1.484570230679726e-07, \"value\": 0.28392730705687974}, \"2\": {\"effect\": 3.4108363854097706e-06, \"value\": 0.2799712849964111}, \"3\": {\"effect\": -5.434689718524661e-07, \"value\": 0.2736094674556213}}}, {\"outValue\": 0.0700587848404188, \"simIndex\": 50.0, \"features\": {\"0\": {\"effect\": 3.6317568044364148e-06, \"value\": 0.27564253713746734}, \"1\": {\"effect\": 2.931025750188919e-07, \"value\": 0.29454802926599033}, \"2\": {\"effect\": 4.769763382146902e-06, \"value\": 0.2845178272313955}, \"3\": {\"effect\": -5.516766833201858e-07, \"value\": 0.2797633136094677}}}, {\"outValue\": 0.07006069822173779, \"simIndex\": 49.0, \"features\": {\"0\": {\"effect\": 4.555098446512187e-06, \"value\": 0.25913699599151174}, \"1\": {\"effect\": 4.6830869273048165e-07, \"value\": 0.25324522067500643}, \"2\": {\"effect\": 5.504977348683343e-06, \"value\": 0.24958123953098887}, \"3\": {\"effect\": -4.720570906604097e-07, \"value\": 0.2350295857988165}}}, {\"outValue\": 0.0700638936237716, \"simIndex\": 48.0, \"features\": {\"0\": {\"effect\": 5.496846334901389e-06, \"value\": 0.2548927139825512}, \"1\": {\"effect\": 8.930326494267382e-07, \"value\": 0.2619778144913858}, \"2\": {\"effect\": 7.2065268328963145e-06, \"value\": 0.2696817420435518}, \"3\": {\"effect\": -3.446763861277173e-07, \"value\": 0.25727810650887584}}}, {\"outValue\": 0.07007106647949166, \"simIndex\": 47.0, \"features\": {\"0\": {\"effect\": 8.199876973077747e-06, \"value\": 0.2617307238858757}, \"1\": {\"effect\": 1.471997047499378e-06, \"value\": 0.2534812367240975}, \"2\": {\"effect\": 1.0851054635381709e-05, \"value\": 0.25604211533859855}, \"3\": {\"effect\": -9.834350482463492e-08, \"value\": 0.2646153846153845}}}, {\"outValue\": 0.0700773356916097, \"simIndex\": 46.0, \"features\": {\"0\": {\"effect\": 1.0852644247048733e-05, \"value\": 0.2622023107757605}, \"1\": {\"effect\": 2.1765149944312522e-06, \"value\": 0.2954920934623555}, \"2\": {\"effect\": 1.3440932093616248e-05, \"value\": 0.26633165829145744}, \"3\": {\"effect\": 2.2370593409706495e-07, \"value\": 0.2866272189349113}}}, {\"outValue\": 0.07008297059619446, \"simIndex\": 45.0, \"features\": {\"0\": {\"effect\": 1.1380803796912012e-05, \"value\": 0.3119547276585708}, \"1\": {\"effect\": 2.9892645965493557e-06, \"value\": 0.32192589096058555}, \"2\": {\"effect\": 1.7271185951157956e-05, \"value\": 0.3084469968892085}, \"3\": {\"effect\": 6.874475093352758e-07, \"value\": 0.3230769230769228}}}, {\"outValue\": 0.07008852411803598, \"simIndex\": 44.0, \"features\": {\"0\": {\"effect\": 1.4232621620306446e-05, \"value\": 0.3409573213864654}, \"1\": {\"effect\": 3.9083954928377095e-06, \"value\": 0.3308945008260564}, \"2\": {\"effect\": 1.869898638266147e-05, \"value\": 0.3122756640344586}, \"3\": {\"effect\": 1.0422201996560288e-06, \"value\": 0.3055621301775151}}}, {\"outValue\": 0.07009415804789179, \"simIndex\": 43.0, \"features\": {\"0\": {\"effect\": 1.5011948948343586e-05, \"value\": 0.3105399669889173}, \"1\": {\"effect\": 4.943953266375647e-06, \"value\": 0.328298324286052}, \"2\": {\"effect\": 2.2199243290179654e-05, \"value\": 0.3261545824359895}, \"3\": {\"effect\": 1.3610080463821742e-06, \"value\": 0.3311242603550295}}}, {\"outValue\": 0.0701034691376489, \"simIndex\": 42.0, \"features\": {\"0\": {\"effect\": 1.736476660181801e-05, \"value\": 0.3279886819146425}, \"1\": {\"effect\": 6.783908281558495e-06, \"value\": 0.3183856502242155}, \"2\": {\"effect\": 2.6791049994883475e-05, \"value\": 0.30174682938502073}, \"3\": {\"effect\": 1.8875184301148167e-06, \"value\": 0.3098224852071003}}}, {\"outValue\": 0.07011336092924937, \"simIndex\": 41.0, \"features\": {\"0\": {\"effect\": 1.969815806214495e-05, \"value\": 0.30393775053053496}, \"1\": {\"effect\": 8.75517930489697e-06, \"value\": 0.3049327354260094}, \"2\": {\"effect\": 3.193395761348246e-05, \"value\": 0.30007178750897356}, \"3\": {\"effect\": 2.331739928334276e-06, \"value\": 0.2899408284023668}}}, {\"outValue\": 0.07013999270034861, \"simIndex\": 40.0, \"features\": {\"0\": {\"effect\": 2.6048971924120774e-05, \"value\": 0.3046451308653615}, \"1\": {\"effect\": 1.3939809879550828e-05, \"value\": 0.31437337738966287}, \"2\": {\"effect\": 4.554279559690125e-05, \"value\": 0.3031825795644898}, \"3\": {\"effect\": 3.819228607528577e-06, \"value\": 0.2998816568047338}}}, {\"outValue\": 0.0701524441580436, \"simIndex\": 39.0, \"features\": {\"0\": {\"effect\": 3.103743076937323e-05, \"value\": 0.30205140297099753}, \"1\": {\"effect\": 1.7443019489069737e-05, \"value\": 0.31201321689874906}, \"2\": {\"effect\": 4.9471431274350245e-05, \"value\": 0.3048576214405365}, \"3\": {\"effect\": 3.850382170288472e-06, \"value\": 0.30130177514792944}}}, {\"outValue\": 0.0701520772521729, \"simIndex\": 38.0, \"features\": {\"0\": {\"effect\": 3.050775643140751e-05, \"value\": 0.3395425607168119}, \"1\": {\"effect\": 2.1321144246511797e-05, \"value\": 0.37030918102431043}, \"2\": {\"effect\": 4.61241594609429e-05, \"value\": 0.35199808566642776}, \"3\": {\"effect\": 3.482297693529557e-06, \"value\": 0.37917159763313624}}}, {\"outValue\": 0.0702384401026683, \"simIndex\": 37.0, \"features\": {\"0\": {\"effect\": 4.939074986885089e-05, \"value\": 0.35298278707851916}, \"1\": {\"effect\": 3.86954132560761e-05, \"value\": 0.36606089214066584}, \"2\": {\"effect\": 9.45506044092549e-05, \"value\": 0.3333333333333339}, \"3\": {\"effect\": 5.161440793601615e-06, \"value\": 0.36615384615384583}}}, {\"outValue\": 0.07028613183706497, \"simIndex\": 36.0, \"features\": {\"0\": {\"effect\": 6.359847138185546e-05, \"value\": 0.3152558358877622}, \"1\": {\"effect\": 4.776983611670086e-05, \"value\": 0.3573282983242865}, \"2\": {\"effect\": 0.000120481363763827, \"value\": 0.2840392438382393}, \"3\": {\"effect\": 3.640271462077908e-06, \"value\": 0.3576331360946745}}}, {\"outValue\": 0.07030747152654833, \"simIndex\": 35.0, \"features\": {\"0\": {\"effect\": 7.585692703453414e-05, \"value\": 0.42607875501061043}, \"1\": {\"effect\": 5.972479011701382e-05, \"value\": 0.48949728581543583}, \"2\": {\"effect\": 0.00012192533188832544, \"value\": 0.4417324718832263}, \"3\": {\"effect\": -6.774168320618226e-07, \"value\": 0.4856804733727813}}}, {\"outValue\": 0.07031449490933679, \"simIndex\": 34.0, \"features\": {\"0\": {\"effect\": 7.140909817816711e-05, \"value\": 0.4805470407922656}, \"1\": {\"effect\": 6.137828571892738e-05, \"value\": 0.49374557469908}, \"2\": {\"effect\": 0.00013695639209470009, \"value\": 0.4833692270878207}, \"3\": {\"effect\": -5.890760995519209e-06, \"value\": 0.5105325443786985}}}, {\"outValue\": 0.070349976836525, \"simIndex\": 33.0, \"features\": {\"0\": {\"effect\": 7.931950808954783e-05, \"value\": 0.5107286017448711}, \"1\": {\"effect\": 7.557127380046616e-05, \"value\": 0.5060184092518298}, \"2\": {\"effect\": 0.00015776867732220632, \"value\": 0.4414931801866482}, \"3\": {\"effect\": -1.3324517027739573e-05, \"value\": 0.4381065088757401}}}, {\"outValue\": 0.0703967566613763, \"simIndex\": 32.0, \"features\": {\"0\": {\"effect\": 9.256455395794395e-05, \"value\": 0.44399905682621954}, \"1\": {\"effect\": 9.230238975761286e-05, \"value\": 0.442058059948077}, \"2\": {\"effect\": 0.0001844856672068275, \"value\": 0.44077530509691387}, \"3\": {\"effect\": -2.3237843886592114e-05, \"value\": 0.44899408284023634}}}, {\"outValue\": 0.07044608172775968, \"simIndex\": 31.0, \"features\": {\"0\": {\"effect\": 0.00010794826270430065, \"value\": 0.44494223060598914}, \"1\": {\"effect\": 0.0001149138711372247, \"value\": 0.45149870191173047}, \"2\": {\"effect\": 0.00020856764984186722, \"value\": 0.4522613065326637}, \"3\": {\"effect\": -3.598995026422832e-05, \"value\": 0.4636686390532545}}}, {\"outValue\": 0.07052624760730826, \"simIndex\": 30.0, \"features\": {\"0\": {\"effect\": 0.00013021497533433334, \"value\": 0.4628625324215987}, \"1\": {\"effect\": 0.00015411001724209485, \"value\": 0.46046731177720135}, \"2\": {\"effect\": 0.00024674331649903754, \"value\": 0.47188322565206997}, \"3\": {\"effect\": -5.5462596107722535e-05, \"value\": 0.47573964497041477}}}, {\"outValue\": 0.07062979526491522, \"simIndex\": 29.0, \"features\": {\"0\": {\"effect\": 0.00017104416564420495, \"value\": 0.47653855222824815}, \"1\": {\"effect\": 0.00018191628055661685, \"value\": 0.47911257965541676}, \"2\": {\"effect\": 0.00029735658331498586, \"value\": 0.480497726728883}, \"3\": {\"effect\": -7.116365894109933e-05, \"value\": 0.489704142011834}}}, {\"outValue\": 0.0706889157822922, \"simIndex\": 28.0, \"features\": {\"0\": {\"effect\": 0.00019385857866818234, \"value\": 0.49752416882810646}, \"1\": {\"effect\": 0.00020809985454813863, \"value\": 0.532924238848242}, \"2\": {\"effect\": 0.00032050796177839313, \"value\": 0.5082555635319461}, \"3\": {\"effect\": -8.419250704303405e-05, \"value\": 0.5460355029585804}}}, {\"outValue\": 0.07081319675860365, \"simIndex\": 27.0, \"features\": {\"0\": {\"effect\": 0.00023633419200887607, \"value\": 0.5519924546097617}, \"1\": {\"effect\": 0.00025758762991832647, \"value\": 0.532924238848242}, \"2\": {\"effect\": 0.00036868589539746006, \"value\": 0.54606365159129}, \"3\": {\"effect\": -0.00010005285306153699, \"value\": 0.5436686390532541}}}, {\"outValue\": 0.07102919020469933, \"simIndex\": 26.0, \"features\": {\"0\": {\"effect\": 0.0003175462618057952, \"value\": 0.526998349445885}, \"1\": {\"effect\": 0.0003299660664323259, \"value\": 0.5182912438045788}, \"2\": {\"effect\": 0.0004386026858211478, \"value\": 0.531945441493181}, \"3\": {\"effect\": -0.00010756670370045585, \"value\": 0.5273372781065087}}}, {\"outValue\": 0.07129008575698571, \"simIndex\": 25.0, \"features\": {\"0\": {\"effect\": 0.0004214677249474802, \"value\": 0.524404621551521}, \"1\": {\"effect\": 0.0003905577362242152, \"value\": 0.5374085437809772}, \"2\": {\"effect\": 0.0005157653188545172, \"value\": 0.5431921512323528}, \"3\": {\"effect\": -8.834691738101033e-05, \"value\": 0.5547928994082838}}}, {\"outValue\": 0.07157610935192091, \"simIndex\": 24.0, \"features\": {\"0\": {\"effect\": 0.0005309073120962067, \"value\": 0.5567083235086061}, \"1\": {\"effect\": 0.00045727976544122293, \"value\": 0.5721029029974041}, \"2\": {\"effect\": 0.0005834425942695895, \"value\": 0.5640105288346495}, \"3\": {\"effect\": -4.6162214226619194e-05, \"value\": 0.5874556213017756}}}, {\"outValue\": 0.071792578531784, \"simIndex\": 23.0, \"features\": {\"0\": {\"effect\": 0.0006496700491099721, \"value\": 0.5755717991039848}, \"1\": {\"effect\": 0.000512129227581088, \"value\": 0.5662025017701207}, \"2\": {\"effect\": 0.0005597616143523302, \"value\": 0.5719071548217283}, \"3\": {\"effect\": 2.037574640008982e-05, \"value\": 0.5640236686390532}}}, {\"outValue\": 0.07216455799067223, \"simIndex\": 22.0, \"features\": {\"0\": {\"effect\": 0.000730969066431499, \"value\": 0.5602452251827397}, \"1\": {\"effect\": 0.0005650081706980842, \"value\": 0.5518055227755494}, \"2\": {\"effect\": 0.0006900387318495038, \"value\": 0.5522852357023216}, \"3\": {\"effect\": 0.00012790012735262562, \"value\": 0.53301775147929}}}, {\"outValue\": 0.07308336563886397, \"simIndex\": 21.0, \"features\": {\"0\": {\"effect\": 0.001076634297237442, \"value\": 0.5272341428908272}, \"1\": {\"effect\": 0.0007341515383969638, \"value\": 0.5140429549209347}, \"2\": {\"effect\": 0.0009252106092126092, \"value\": 0.4587221823402734}, \"3\": {\"effect\": 0.000296727299676444, \"value\": 0.4762130177514794}}}, {\"outValue\": 0.0739867125546831, \"simIndex\": 20.0, \"features\": {\"0\": {\"effect\": 0.0013655415129524267, \"value\": 0.45767507663286944}, \"1\": {\"effect\": 0.0008956797697397023, \"value\": 0.4689638895444892}, \"2\": {\"effect\": 0.00112118197071216, \"value\": 0.46135439100263254}, \"3\": {\"effect\": 0.0005536674069382963, \"value\": 0.4809467455621306}}}, {\"outValue\": 0.0759838257171665, \"simIndex\": 18.0, \"features\": {\"0\": {\"effect\": 0.0018427035545096188, \"value\": 0.5012968639471818}, \"1\": {\"effect\": 0.0014008097480032388, \"value\": 0.4892612697663443}, \"2\": {\"effect\": 0.0015572289142398714, \"value\": 0.48959081119885184}, \"3\": {\"effect\": 0.0011324416060732546, \"value\": 0.47668639053254447}}}, {\"outValue\": 0.07898832901027922, \"simIndex\": 17.0, \"features\": {\"0\": {\"effect\": 0.0029440044671142696, \"value\": 0.48431973591134136}, \"1\": {\"effect\": 0.001820526710830121, \"value\": 0.480764691999056}, \"2\": {\"effect\": 0.0024121618132104967, \"value\": 0.47379755922469524}, \"3\": {\"effect\": 0.00176099412478381, \"value\": 0.4887573964497043}}}, {\"outValue\": 0.08192474520751501, \"simIndex\": 15.0, \"features\": {\"0\": {\"effect\": 0.003799783130680022, \"value\": 0.4954020278236264}, \"1\": {\"effect\": 0.002338533646158823, \"value\": 0.5843757375501539}, \"2\": {\"effect\": 0.003096626266479447, \"value\": 0.5087341469251019}, \"3\": {\"effect\": 0.002639160269856206, \"value\": 0.5938461538461537}}}, {\"outValue\": 0.08542264105164551, \"simIndex\": 14.0, \"features\": {\"0\": {\"effect\": 0.005076595193926983, \"value\": 0.5960858288139588}, \"1\": {\"effect\": 0.0028952238291579868, \"value\": 0.6037290535756434}, \"2\": {\"effect\": 0.0039431233557949055, \"value\": 0.6003828667145252}, \"3\": {\"effect\": 0.0034570567784251265, \"value\": 0.6073372781065092}}}, {\"outValue\": 0.09015963090454839, \"simIndex\": 13.0, \"features\": {\"0\": {\"effect\": 0.005991984697413867, \"value\": 0.6033954256071681}, \"1\": {\"effect\": 0.0040026431527380975, \"value\": 0.6207222091102196}, \"2\": {\"effect\": 0.004986156776791241, \"value\": 0.609475951184494}, \"3\": {\"effect\": 0.00512820438326466, \"value\": 0.6347928994082843}}}, {\"outValue\": 0.09606876883177229, \"simIndex\": 11.0, \"features\": {\"0\": {\"effect\": 0.008073596303139948, \"value\": 0.6397076161282715}, \"1\": {\"effect\": 0.004814749037499377, \"value\": 0.6223743214538588}, \"2\": {\"effect\": 0.006504131943001963, \"value\": 0.6207226609236662}, \"3\": {\"effect\": 0.006625649653790486, \"value\": 0.6106508875739647}}}, {\"outValue\": 0.10103001090380845, \"simIndex\": 9.0, \"features\": {\"0\": {\"effect\": 0.009416435108876846, \"value\": 0.6151850978542797}, \"1\": {\"effect\": 0.00569133600681474, \"value\": 0.6969553929667214}, \"2\": {\"effect\": 0.007812601095775161, \"value\": 0.6353194544149323}, \"3\": {\"effect\": 0.008058996798001183, \"value\": 0.6766863905325442}}}, {\"outValue\": 0.10541320691792047, \"simIndex\": 8.0, \"features\": {\"0\": {\"effect\": 0.011294652623970008, \"value\": 0.6786135345437398}, \"1\": {\"effect\": 0.006429380433439569, \"value\": 0.6955392966721741}, \"2\": {\"effect\": 0.00843694239501374, \"value\": 0.677674084709261}, \"3\": {\"effect\": 0.009201589571156634, \"value\": 0.68189349112426}}}, {\"outValue\": 0.10882394100760337, \"simIndex\": 7.0, \"features\": {\"0\": {\"effect\": 0.011737531079823229, \"value\": 0.6701249705258192}, \"1\": {\"effect\": 0.006784566574601088, \"value\": 0.6945952324758089}, \"2\": {\"effect\": 0.009526852393481871, \"value\": 0.6855707106963389}, \"3\": {\"effect\": 0.01072434906535666, \"value\": 0.6702958579881662}}}, {\"outValue\": 0.11452736504761621, \"simIndex\": 5.0, \"features\": {\"0\": {\"effect\": 0.013297412423633161, \"value\": 0.6927611412402732}, \"1\": {\"effect\": 0.00783819669396426, \"value\": 0.6771300448430497}, \"2\": {\"effect\": 0.010719174392834221, \"value\": 0.6444125388849011}, \"3\": {\"effect\": 0.012621939642844056, \"value\": 0.6397633136094671}}}, {\"outValue\": 0.11642715966562867, \"simIndex\": 3.0, \"features\": {\"0\": {\"effect\": 0.013513984700452815, \"value\": 0.6423013440226364}, \"1\": {\"effect\": 0.008346601777830816, \"value\": 0.633467075761152}, \"2\": {\"effect\": 0.01087445784598612, \"value\": 0.6429767887054325}, \"3\": {\"effect\": 0.013641473447018403, \"value\": 0.6385798816568049}}}, {\"outValue\": 0.11955015517345012, \"simIndex\": 1.0, \"features\": {\"0\": {\"effect\": 0.014614052816960505, \"value\": 0.6578637113888233}, \"1\": {\"effect\": 0.008810193132712255, \"value\": 0.6568326646211946}, \"2\": {\"effect\": 0.011875611314709027, \"value\": 0.653744915051448}, \"3\": {\"effect\": 0.014199656014727821, \"value\": 0.6603550295857987}}}, {\"outValue\": 0.11857198415268222, \"simIndex\": 2.0, \"features\": {\"0\": {\"effect\": 0.014257774865026893, \"value\": 0.6286253242159865}, \"1\": {\"effect\": 0.008560765638689662, \"value\": 0.649516167099363}, \"2\": {\"effect\": 0.01164792004242813, \"value\": 0.6250299114620725}, \"3\": {\"effect\": 0.01405488171219702, \"value\": 0.6539644970414207}}}, {\"outValue\": 0.11639609850414134, \"simIndex\": 4.0, \"features\": {\"0\": {\"effect\": 0.013394616026438868, \"value\": 0.6547983966045745}, \"1\": {\"effect\": 0.008297921094543059, \"value\": 0.6563606325230116}, \"2\": {\"effect\": 0.011064522220616591, \"value\": 0.6568557071069643}, \"3\": {\"effect\": 0.013588397268202308, \"value\": 0.6475739644970417}}}, {\"outValue\": 0.11009515740062076, \"simIndex\": 6.0, \"features\": {\"0\": {\"effect\": 0.011902953610193077, \"value\": 0.6463098325866539}, \"1\": {\"effect\": 0.007301029571018362, \"value\": 0.6388954448902529}, \"2\": {\"effect\": 0.009291723575886552, \"value\": 0.653744915051448}, \"3\": {\"effect\": 0.011548808749182248, \"value\": 0.6392899408284025}}}, {\"outValue\": 0.10162087630991759, \"simIndex\": 10.0, \"features\": {\"0\": {\"effect\": 0.009045869738860304, \"value\": 0.6458382456967691}, \"1\": {\"effect\": 0.005727079820680246, \"value\": 0.6504602312957282}, \"2\": {\"effect\": 0.007354558645606227, \"value\": 0.6633165829145731}, \"3\": {\"effect\": 0.009442726210430304, \"value\": 0.6494674556213016}}}, {\"outValue\": 0.09187818671333853, \"simIndex\": 12.0, \"features\": {\"0\": {\"effect\": 0.00643549333897683, \"value\": 0.6531478424899784}, \"1\": {\"effect\": 0.003995216019741387, \"value\": 0.6447958461175363}, \"2\": {\"effect\": 0.0049631457197751305, \"value\": 0.6429767887054325}, \"3\": {\"effect\": 0.006433689740504661, \"value\": 0.6269822485207102}}}, {\"outValue\": 0.08265212798776922, \"simIndex\": 16.0, \"features\": {\"0\": {\"effect\": 0.0036816121736473174, \"value\": 0.6232020749823155}, \"1\": {\"effect\": 0.0023594920932045148, \"value\": 0.627094642435686}, \"2\": {\"effect\": 0.002791969961309263, \"value\": 0.6429767887054325}, \"3\": {\"effect\": 0.0037684118652676164, \"value\": 0.6366863905325442}}}, {\"outValue\": 0.07471045610746758, \"simIndex\": 19.0, \"features\": {\"0\": {\"effect\": 0.0013287622128057743, \"value\": 0.6331053996698888}, \"1\": {\"effect\": 0.0008944528759410913, \"value\": 0.620250177012037}, \"2\": {\"effect\": 0.0010174648711541358, \"value\": 0.631012203876526}, \"3\": {\"effect\": 0.0014191342532260686, \"value\": 0.6222485207100594}}}], \"plot_cmap\": \"RdBu\", \"ordering_keys\": null, \"ordering_keys_time_format\": null}),\n",
       "    document.getElementById('i3B6O6UTJ1A7082PYL1K0')\n",
       "  );\n",
       "</script>"
      ],
      "text/plain": [
       "<IPython.core.display.HTML object>"
      ]
     },
     "execution_count": 32,
     "metadata": {},
     "output_type": "execute_result"
    }
   ],
   "source": [
    "shap.force_plot(explainer.expected_value[0], shap_values[0][2], X_test[0])"
   ]
  },
  {
   "cell_type": "code",
   "execution_count": 33,
   "metadata": {},
   "outputs": [
    {
     "data": {
      "text/html": [
       "\n",
       "<div id='i7ZK8I77LGV129DFJLXHY'>\n",
       "<div style='color: #900; text-align: center;'>\n",
       "  <b>Visualization omitted, Javascript library not loaded!</b><br>\n",
       "  Have you run `initjs()` in this notebook? If this notebook was from another\n",
       "  user you must also trust this notebook (File -> Trust notebook). If you are viewing\n",
       "  this notebook on github the Javascript has been stripped for security. If you are using\n",
       "  JupyterLab this error is because a JupyterLab extension has not yet been written.\n",
       "</div></div>\n",
       " <script>\n",
       "   if (window.SHAP) SHAP.ReactDom.render(\n",
       "    SHAP.React.createElement(SHAP.AdditiveForceArrayVisualizer, {\"outNames\": [\"output value\"], \"baseValue\": 0.07005064189434052, \"link\": \"identity\", \"featureNames\": [\"Feature 0\", \"Feature 1\", \"Feature 2\", \"Feature 3\"], \"explanations\": [{\"outValue\": 0.07005123961737748, \"simIndex\": 1.0, \"features\": {\"0\": {\"effect\": 6.415233620367112e-07, \"value\": 0.4067436925253478}, \"1\": {\"effect\": -9.837269065775703e-08, \"value\": 0.40146329950436677}, \"2\": {\"effect\": 5.860118644404925e-07, \"value\": 0.40105288346494383}, \"3\": {\"effect\": -5.314394988559438e-07, \"value\": 0.4066272189349114}}}, {\"outValue\": 0.07005142508706724, \"simIndex\": 2.0, \"features\": {\"0\": {\"effect\": 7.387646377426707e-07, \"value\": 0.41381749587361405}, \"1\": {\"effect\": -9.045828834164996e-08, \"value\": 0.4078357328298323}, \"2\": {\"effect\": 7.171083947983643e-07, \"value\": 0.3764058387173974}, \"3\": {\"effect\": -5.822220174668233e-07, \"value\": 0.3779881656804731}}}, {\"outValue\": 0.0700516557789002, \"simIndex\": 3.0, \"features\": {\"0\": {\"effect\": 8.619512604370314e-07, \"value\": 0.4036783777410986}, \"1\": {\"effect\": -8.900391372919754e-08, \"value\": 0.4264810007080486}, \"2\": {\"effect\": 8.652409986514073e-07, \"value\": 0.41947834410146}, \"3\": {\"effect\": -6.243037856771998e-07, \"value\": 0.40994082840236734}}}, {\"outValue\": 0.07005231713904297, \"simIndex\": 5.0, \"features\": {\"0\": {\"effect\": 1.178232584671612e-06, \"value\": 0.40414996463098296}, \"1\": {\"effect\": -9.975044789895407e-08, \"value\": 0.3901345291479821}, \"2\": {\"effect\": 1.3315423424438706e-06, \"value\": 0.3531945441493183}, \"3\": {\"effect\": -7.347797767556333e-07, \"value\": 0.35715976331360944}}}, {\"outValue\": 0.07005296812917586, \"simIndex\": 6.0, \"features\": {\"0\": {\"effect\": 1.4944050148686912e-06, \"value\": 0.36265031832115024}, \"1\": {\"effect\": -9.526078989983313e-08, \"value\": 0.34340335142789735}, \"2\": {\"effect\": 1.7521362185265851e-06, \"value\": 0.33381191672649013}, \"3\": {\"effect\": -8.250456081566888e-07, \"value\": 0.34532544378698216}}}, {\"outValue\": 0.07005218888824037, \"simIndex\": 4.0, \"features\": {\"0\": {\"effect\": 1.2033448404142614e-06, \"value\": 0.33270455081348693}, \"1\": {\"effect\": -5.0996109235863266e-08, \"value\": 0.3257021477460471}, \"2\": {\"effect\": 1.0014371704812075e-06, \"value\": 0.314429289303662}, \"3\": {\"effect\": -6.067920018070913e-07, \"value\": 0.3318343195266271}}}, {\"outValue\": 0.07005367773693644, \"simIndex\": 7.0, \"features\": {\"0\": {\"effect\": 1.7433708011085832e-06, \"value\": 0.3508606460740391}, \"1\": {\"effect\": -3.816084473451445e-08, \"value\": 0.3566202501770124}, \"2\": {\"effect\": 2.0084819063599904e-06, \"value\": 0.35798037808088123}, \"3\": {\"effect\": -6.77849266812799e-07, \"value\": 0.34911242603550274}}}, {\"outValue\": 0.070054705211334, \"simIndex\": 8.0, \"features\": {\"0\": {\"effect\": 2.1699210748032356e-06, \"value\": 0.3503890591841543}, \"1\": {\"effect\": 5.836934049781382e-09, \"value\": 0.3651168279443002}, \"2\": {\"effect\": 2.6061125635611613e-06, \"value\": 0.36396267049533426}, \"3\": {\"effect\": -7.185535789347801e-07, \"value\": 0.3566863905325448}}}, {\"outValue\": 0.07005532969432322, \"simIndex\": 9.0, \"features\": {\"0\": {\"effect\": 2.473359491297818e-06, \"value\": 0.24593256307474665}, \"1\": {\"effect\": 6.296426879597123e-08, \"value\": 0.24970497993863594}, \"2\": {\"effect\": 2.7246591500534594e-06, \"value\": 0.2072266092366597}, \"3\": {\"effect\": -5.73182927439855e-07, \"value\": 0.2608284023668639}}}, {\"outValue\": 0.07005698468151232, \"simIndex\": 10.0, \"features\": {\"0\": {\"effect\": 2.967770659649388e-06, \"value\": 0.2754067436925256}, \"1\": {\"effect\": 1.629174209379359e-07, \"value\": 0.28392730705687974}, \"2\": {\"effect\": 3.830805108384749e-06, \"value\": 0.2799712849964111}, \"3\": {\"effect\": -6.187060171665622e-07, \"value\": 0.2736094674556213}}}, {\"outValue\": 0.07005854571364759, \"simIndex\": 11.0, \"features\": {\"0\": {\"effect\": 3.74807392917761e-06, \"value\": 0.27564253713746734}, \"1\": {\"effect\": 2.916091672434375e-07, \"value\": 0.29454802926599033}, \"2\": {\"effect\": 4.444515584731855e-06, \"value\": 0.2845178272313955}, \"3\": {\"effect\": -5.80379374084576e-07, \"value\": 0.2797633136094677}}}, {\"outValue\": 0.07006112623480634, \"simIndex\": 12.0, \"features\": {\"0\": {\"effect\": 4.55550846853237e-06, \"value\": 0.25913699599151174}, \"1\": {\"effect\": 5.948072586583912e-07, \"value\": 0.25324522067500643}, \"2\": {\"effect\": 5.851078324319878e-06, \"value\": 0.24958123953098887}, \"3\": {\"effect\": -5.170535856897049e-07, \"value\": 0.2350295857988165}}}, {\"outValue\": 0.0700670208006637, \"simIndex\": 13.0, \"features\": {\"0\": {\"effect\": 6.849543583772532e-06, \"value\": 0.2548927139825512}, \"1\": {\"effect\": 1.0249174697679837e-06, \"value\": 0.2619778144913858}, \"2\": {\"effect\": 8.873324812610125e-06, \"value\": 0.2696817420435518}, \"3\": {\"effect\": -3.6887954296978616e-07, \"value\": 0.25727810650887584}}}, {\"outValue\": 0.07007232330311298, \"simIndex\": 14.0, \"features\": {\"0\": {\"effect\": 9.142251734747534e-06, \"value\": 0.2617307238858757}, \"1\": {\"effect\": 1.5656367119636043e-06, \"value\": 0.2534812367240975}, \"2\": {\"effect\": 1.1058356349095348e-05, \"value\": 0.25604211533859855}, \"3\": {\"effect\": -8.483602332994518e-08, \"value\": 0.2646153846153845}}}, {\"outValue\": 0.07007709558442227, \"simIndex\": 15.0, \"features\": {\"0\": {\"effect\": 9.661934256322691e-06, \"value\": 0.2622023107757605}, \"1\": {\"effect\": 2.2050742947293496e-06, \"value\": 0.2954920934623555}, \"2\": {\"effect\": 1.430001918907442e-05, \"value\": 0.26633165829145744}, \"3\": {\"effect\": 2.866623416239955e-07, \"value\": 0.2866272189349113}}}, {\"outValue\": 0.07008199154606375, \"simIndex\": 16.0, \"features\": {\"0\": {\"effect\": 1.2181139757341294e-05, \"value\": 0.3119547276585708}, \"1\": {\"effect\": 2.94228509508742e-06, \"value\": 0.32192589096058555}, \"2\": {\"effect\": 1.5582952564030954e-05, \"value\": 0.3084469968892085}, \"3\": {\"effect\": 6.432743067692312e-07, \"value\": 0.3230769230769228}}}, {\"outValue\": 0.070086976088207, \"simIndex\": 17.0, \"features\": {\"0\": {\"effect\": 1.2948931661153217e-05, \"value\": 0.3409573213864654}, \"1\": {\"effect\": 3.784893957541734e-06, \"value\": 0.3308945008260564}, \"2\": {\"effect\": 1.8608140999958107e-05, \"value\": 0.3122756640344586}, \"3\": {\"effect\": 9.922272478420874e-07, \"value\": 0.3055621301775151}}}, {\"outValue\": 0.07009513382496825, \"simIndex\": 18.0, \"features\": {\"0\": {\"effect\": 1.5094700693380264e-05, \"value\": 0.3105399669889173}, \"1\": {\"effect\": 5.269218517601867e-06, \"value\": 0.328298324286052}, \"2\": {\"effect\": 2.2597225651020524e-05, \"value\": 0.3261545824359895}, \"3\": {\"effect\": 1.5307857657378154e-06, \"value\": 0.3311242603550295}}}, {\"outValue\": 0.07010395657393954, \"simIndex\": 19.0, \"features\": {\"0\": {\"effect\": 1.7263333577341954e-05, \"value\": 0.3279886819146425}, \"1\": {\"effect\": 6.889303057434248e-06, \"value\": 0.3183856502242155}, \"2\": {\"effect\": 2.7106207636807973e-05, \"value\": 0.30174682938502073}, \"3\": {\"effect\": 2.0558353274461414e-06, \"value\": 0.3098224852071003}}}, {\"outValue\": 0.07012725324771649, \"simIndex\": 20.0, \"features\": {\"0\": {\"effect\": 2.2983680713997936e-05, \"value\": 0.30393775053053496}, \"1\": {\"effect\": 1.1100842093331349e-05, \"value\": 0.3049327354260094}, \"2\": {\"effect\": 3.890505833202682e-05, \"value\": 0.30007178750897356}, \"3\": {\"effect\": 3.6217722366127693e-06, \"value\": 0.2899408284023668}}}, {\"outValue\": 0.07013886591859787, \"simIndex\": 21.0, \"features\": {\"0\": {\"effect\": 2.7603682913398486e-05, \"value\": 0.3046451308653615}, \"1\": {\"effect\": 1.4050139095183203e-05, \"value\": 0.31437337738966287}, \"2\": {\"effect\": 4.257909950688524e-05, \"value\": 0.3031825795644898}, \"3\": {\"effect\": 3.991102741890947e-06, \"value\": 0.2998816568047338}}}, {\"outValue\": 0.07013940789545978, \"simIndex\": 22.0, \"features\": {\"0\": {\"effect\": 2.7329483818804954e-05, \"value\": 0.30205140297099753}, \"1\": {\"effect\": 1.735190290411172e-05, \"value\": 0.31201321689874906}, \"2\": {\"effect\": 3.998145700169834e-05, \"value\": 0.3048576214405365}, \"3\": {\"effect\": 4.103157394653224e-06, \"value\": 0.30130177514792944}}}, {\"outValue\": 0.07021638984935968, \"simIndex\": 23.0, \"features\": {\"0\": {\"effect\": 4.454279780027332e-05, \"value\": 0.3395425607168119}, \"1\": {\"effect\": 3.1791977526057856e-05, \"value\": 0.37030918102431043}, \"2\": {\"effect\": 8.25836768656803e-05, \"value\": 0.35199808566642776}, \"3\": {\"effect\": 6.829502827163129e-06, \"value\": 0.37917159763313624}}}, {\"outValue\": 0.07026055484575089, \"simIndex\": 24.0, \"features\": {\"0\": {\"effect\": 5.7705651963450915e-05, \"value\": 0.35298278707851916}, \"1\": {\"effect\": 3.959174110320472e-05, \"value\": 0.36606089214066584}, \"2\": {\"effect\": 0.0001059599040964115, \"value\": 0.3333333333333339}, \"3\": {\"effect\": 6.65565424731129e-06, \"value\": 0.36615384615384583}}}, {\"outValue\": 0.07028078545108886, \"simIndex\": 25.0, \"features\": {\"0\": {\"effect\": 6.905452034568269e-05, \"value\": 0.3152558358877622}, \"1\": {\"effect\": 4.986409386568791e-05, \"value\": 0.3573282983242865}, \"2\": {\"effect\": 0.00010793772595256356, \"value\": 0.2840392438382393}, \"3\": {\"effect\": 3.2872165844156286e-06, \"value\": 0.3576331360946745}}}, {\"outValue\": 0.07028915725837317, \"simIndex\": 26.0, \"features\": {\"0\": {\"effect\": 6.510038770413732e-05, \"value\": 0.42607875501061043}, \"1\": {\"effect\": 5.15550192831817e-05, \"value\": 0.48949728581543583}, \"2\": {\"effect\": 0.00012193548336917611, \"value\": 0.4417324718832263}, \"3\": {\"effect\": -7.55263238396376e-08, \"value\": 0.4856804733727813}}}, {\"outValue\": 0.07032377722171321, \"simIndex\": 27.0, \"features\": {\"0\": {\"effect\": 7.216312034373123e-05, \"value\": 0.4805470407922656}, \"1\": {\"effect\": 6.365404537221431e-05, \"value\": 0.49374557469908}, \"2\": {\"effect\": 0.00014153037536845258, \"value\": 0.4833692270878207}, \"3\": {\"effect\": -4.212213711709135e-06, \"value\": 0.5105325443786985}}}, {\"outValue\": 0.07036633687248092, \"simIndex\": 28.0, \"features\": {\"0\": {\"effect\": 8.384538538185855e-05, \"value\": 0.5107286017448711}, \"1\": {\"effect\": 7.83955868390139e-05, \"value\": 0.5060184092518298}, \"2\": {\"effect\": 0.00016598110541551662, \"value\": 0.4414931801866482}, \"3\": {\"effect\": -1.2527099495986196e-05, \"value\": 0.4381065088757401}}}, {\"outValue\": 0.07041077932895194, \"simIndex\": 29.0, \"features\": {\"0\": {\"effect\": 9.675030548198704e-05, \"value\": 0.44399905682621954}, \"1\": {\"effect\": 9.78915145304552e-05, \"value\": 0.442058059948077}, \"2\": {\"effect\": 0.0001882584610405816, \"value\": 0.44077530509691387}, \"3\": {\"effect\": -2.276284644160396e-05, \"value\": 0.44899408284023634}}}, {\"outValue\": 0.07048113928438436, \"simIndex\": 30.0, \"features\": {\"0\": {\"effect\": 0.00011484439528203193, \"value\": 0.44494223060598914}, \"1\": {\"effect\": 0.00013150663136357875, \"value\": 0.45149870191173047}, \"2\": {\"effect\": 0.0002228091744010306, \"value\": 0.4522613065326637}, \"3\": {\"effect\": -3.86628110027961e-05, \"value\": 0.4636686390532545}}}, {\"outValue\": 0.07056747482224432, \"simIndex\": 31.0, \"features\": {\"0\": {\"effect\": 0.00014772301667595236, \"value\": 0.4628625324215987}, \"1\": {\"effect\": 0.00015511838113751528, \"value\": 0.46046731177720135}, \"2\": {\"effect\": 0.0002677714934321306, \"value\": 0.47188322565206997}, \"3\": {\"effect\": -5.37799633417946e-05, \"value\": 0.47573964497041477}}}, {\"outValue\": 0.07060939024614482, \"simIndex\": 32.0, \"features\": {\"0\": {\"effect\": 0.00016327121967398155, \"value\": 0.47653855222824815}, \"1\": {\"effect\": 0.0001770605767559081, \"value\": 0.47911257965541676}, \"2\": {\"effect\": 0.00028698980246836603, \"value\": 0.480497726728883}, \"3\": {\"effect\": -6.857324709395257e-05, \"value\": 0.489704142011834}}}, {\"outValue\": 0.07070136149670596, \"simIndex\": 33.0, \"features\": {\"0\": {\"effect\": 0.00019376781417512203, \"value\": 0.49752416882810646}, \"1\": {\"effect\": 0.0002182441744234768, \"value\": 0.532924238848242}, \"2\": {\"effect\": 0.0003268518759970666, \"value\": 0.5082555635319461}, \"3\": {\"effect\": -8.814426223021732e-05, \"value\": 0.5460355029585804}}}, {\"outValue\": 0.07086101170467937, \"simIndex\": 34.0, \"features\": {\"0\": {\"effect\": 0.00025398388275995937, \"value\": 0.5519924546097617}, \"1\": {\"effect\": 0.0002780207833417186, \"value\": 0.532924238848242}, \"2\": {\"effect\": 0.00038342722459730325, \"value\": 0.54606365159129}, \"3\": {\"effect\": -0.00010506208036012122, \"value\": 0.5436686390532541}}}, {\"outValue\": 0.07104819845859513, \"simIndex\": 35.0, \"features\": {\"0\": {\"effect\": 0.00033012079360041557, \"value\": 0.526998349445885}, \"1\": {\"effect\": 0.00032662102870992395, \"value\": 0.5182912438045788}, \"2\": {\"effect\": 0.0004431242129501535, \"value\": 0.531945441493181}, \"3\": {\"effect\": -0.00010230947100587639, \"value\": 0.5273372781065087}}}, {\"outValue\": 0.07124843662617084, \"simIndex\": 36.0, \"features\": {\"0\": {\"effect\": 0.0004093677482372232, \"value\": 0.524404621551521}, \"1\": {\"effect\": 0.00037950988923577176, \"value\": 0.5374085437809772}, \"2\": {\"effect\": 0.0004918467742533069, \"value\": 0.5431921512323528}, \"3\": {\"effect\": -8.292967989598325e-05, \"value\": 0.5547928994082838}}}, {\"outValue\": 0.07139054266243655, \"simIndex\": 37.0, \"features\": {\"0\": {\"effect\": 0.0004965660374803473, \"value\": 0.5567083235086061}, \"1\": {\"effect\": 0.0004219051700595182, \"value\": 0.5721029029974041}, \"2\": {\"effect\": 0.00046309299263418564, \"value\": 0.5640105288346495}, \"3\": {\"effect\": -4.1663432078011496e-05, \"value\": 0.5874556213017756}}}, {\"outValue\": 0.07165434779126377, \"simIndex\": 38.0, \"features\": {\"0\": {\"effect\": 0.0005572385245005396, \"value\": 0.5755717991039848}, \"1\": {\"effect\": 0.0004623593022971258, \"value\": 0.5662025017701207}, \"2\": {\"effect\": 0.000561198209468907, \"value\": 0.5719071548217283}, \"3\": {\"effect\": 2.290986065668273e-05, \"value\": 0.5640236686390532}}}, {\"outValue\": 0.0723486585528557, \"simIndex\": 39.0, \"features\": {\"0\": {\"effect\": 0.0008222061775058606, \"value\": 0.5602452251827397}, \"1\": {\"effect\": 0.0005976164335535218, \"value\": 0.5518055227755494}, \"2\": {\"effect\": 0.0007422494577284737, \"value\": 0.5522852357023216}, \"3\": {\"effect\": 0.00013594458972733713, \"value\": 0.53301775147929}}}, {\"outValue\": 0.07303217647924362, \"simIndex\": 40.0, \"features\": {\"0\": {\"effect\": 0.0010493328195931332, \"value\": 0.5272341428908272}, \"1\": {\"effect\": 0.0007262584569206403, \"value\": 0.5140429549209347}, \"2\": {\"effect\": 0.0008917964054069469, \"value\": 0.4587221823402734}, \"3\": {\"effect\": 0.00031414690298238825, \"value\": 0.4762130177514794}}}, {\"outValue\": 0.0745659028343321, \"simIndex\": 41.0, \"features\": {\"0\": {\"effect\": 0.001429371071141619, \"value\": 0.45767507663286944}, \"1\": {\"effect\": 0.0011351612394973872, \"value\": 0.4689638895444892}, \"2\": {\"effect\": 0.0012345603555979677, \"value\": 0.46135439100263254}, \"3\": {\"effect\": 0.0007161682737546162, \"value\": 0.4809467455621306}}}, {\"outValue\": 0.07694162992701231, \"simIndex\": 43.0, \"features\": {\"0\": {\"effect\": 0.0023080911611871656, \"value\": 0.5012968639471818}, \"1\": {\"effect\": 0.0014762786251579381, \"value\": 0.4892612697663443}, \"2\": {\"effect\": 0.0019150189788447207, \"value\": 0.48959081119885184}, \"3\": {\"effect\": 0.0011915992674819734, \"value\": 0.47668639053254447}}}, {\"outValue\": 0.07931740083109282, \"simIndex\": 44.0, \"features\": {\"0\": {\"effect\": 0.003017901023542744, \"value\": 0.48431973591134136}, \"1\": {\"effect\": 0.001903791136060637, \"value\": 0.480764691999056}, \"2\": {\"effect\": 0.00247336843632376, \"value\": 0.47379755922469524}, \"3\": {\"effect\": 0.001871698340825163, \"value\": 0.4887573964497043}}}, {\"outValue\": 0.08223462608026282, \"simIndex\": 45.0, \"features\": {\"0\": {\"effect\": 0.004087324122985277, \"value\": 0.4954020278236264}, \"1\": {\"effect\": 0.0023713070694478294, \"value\": 0.5843757375501539}, \"2\": {\"effect\": 0.003178818223163279, \"value\": 0.5087341469251019}, \"3\": {\"effect\": 0.002546534770325912, \"value\": 0.5938461538461537}}}, {\"outValue\": 0.0862284232321861, \"simIndex\": 47.0, \"features\": {\"0\": {\"effect\": 0.004898224409567106, \"value\": 0.5960858288139588}, \"1\": {\"effect\": 0.003307588584138801, \"value\": 0.6037290535756434}, \"2\": {\"effect\": 0.004069451289440713, \"value\": 0.6003828667145252}, \"3\": {\"effect\": 0.0039025170546989583, \"value\": 0.6073372781065092}}}, {\"outValue\": 0.09137076992620224, \"simIndex\": 48.0, \"features\": {\"0\": {\"effect\": 0.0067103488563789, \"value\": 0.6033954256071681}, \"1\": {\"effect\": 0.004024402204310272, \"value\": 0.6207222091102196}, \"2\": {\"effect\": 0.005389139351268758, \"value\": 0.609475951184494}, \"3\": {\"effect\": 0.005196237619903793, \"value\": 0.6347928994082843}}}, {\"outValue\": 0.09593702943176821, \"simIndex\": 50.0, \"features\": {\"0\": {\"effect\": 0.007970430888440894, \"value\": 0.6397076161282715}, \"1\": {\"effect\": 0.004823705994429233, \"value\": 0.6223743214538588}, \"2\": {\"effect\": 0.006589391385543768, \"value\": 0.6207226609236662}, \"3\": {\"effect\": 0.006502859269013804, \"value\": 0.6106508875739647}}}, {\"outValue\": 0.1002509514548887, \"simIndex\": 51.0, \"features\": {\"0\": {\"effect\": 0.00975607987832026, \"value\": 0.6151850978542797}, \"1\": {\"effect\": 0.005542482626589077, \"value\": 0.6969553929667214}, \"2\": {\"effect\": 0.007262787918756468, \"value\": 0.6353194544149323}, \"3\": {\"effect\": 0.0076389591368823785, \"value\": 0.6766863905325442}}}, {\"outValue\": 0.10394612863974999, \"simIndex\": 53.0, \"features\": {\"0\": {\"effect\": 0.010370594018450053, \"value\": 0.6786135345437398}, \"1\": {\"effect\": 0.005963322564652606, \"value\": 0.6955392966721741}, \"2\": {\"effect\": 0.00839405856390779, \"value\": 0.677674084709261}, \"3\": {\"effect\": 0.00916751159839902, \"value\": 0.68189349112426}}}, {\"outValue\": 0.10999660846247161, \"simIndex\": 55.0, \"features\": {\"0\": {\"effect\": 0.01205479370637392, \"value\": 0.6701249705258192}, \"1\": {\"effect\": 0.0070530957297262505, \"value\": 0.6945952324758089}, \"2\": {\"effect\": 0.009701602713368618, \"value\": 0.6855707106963389}, \"3\": {\"effect\": 0.0111364744186623, \"value\": 0.6702958579881662}}}, {\"outValue\": 0.11301188602525891, \"simIndex\": 56.0, \"features\": {\"0\": {\"effect\": 0.012619051943560477, \"value\": 0.6927611412402732}, \"1\": {\"effect\": 0.007725092615284119, \"value\": 0.6771300448430497}, \"2\": {\"effect\": 0.010153833807967853, \"value\": 0.6444125388849011}, \"3\": {\"effect\": 0.012463265764105945, \"value\": 0.6397633136094671}}}, {\"outValue\": 0.11761614705917019, \"simIndex\": 58.0, \"features\": {\"0\": {\"effect\": 0.014133804075733346, \"value\": 0.6423013440226364}, \"1\": {\"effect\": 0.008434829483235559, \"value\": 0.633467075761152}, \"2\": {\"effect\": 0.011505418499997058, \"value\": 0.6429767887054325}, \"3\": {\"effect\": 0.013491453105863704, \"value\": 0.6385798816568049}}}, {\"outValue\": 0.11874985336009825, \"simIndex\": 59.0, \"features\": {\"0\": {\"effect\": 0.014383258009876016, \"value\": 0.6578637113888233}, \"1\": {\"effect\": 0.008541249515435272, \"value\": 0.6568326646211946}, \"2\": {\"effect\": 0.01179337397763844, \"value\": 0.653744915051448}, \"3\": {\"effect\": 0.013981329962807992, \"value\": 0.6603550295857987}}}, {\"outValue\": 0.11913887331720185, \"simIndex\": 60.0, \"features\": {\"0\": {\"effect\": 0.014236956293916398, \"value\": 0.6286253242159865}, \"1\": {\"effect\": 0.008719685796248891, \"value\": 0.649516167099363}, \"2\": {\"effect\": 0.011832833162098011, \"value\": 0.6250299114620725}, \"3\": {\"effect\": 0.014298756170598035, \"value\": 0.6539644970414207}}}, {\"outValue\": 0.11550874522798485, \"simIndex\": 57.0, \"features\": {\"0\": {\"effect\": 0.013542581359429368, \"value\": 0.6547983966045745}, \"1\": {\"effect\": 0.008211377734888699, \"value\": 0.6563606325230116}, \"2\": {\"effect\": 0.010660372079818223, \"value\": 0.6568557071069643}, \"3\": {\"effect\": 0.013043772159508048, \"value\": 0.6475739644970417}}}, {\"outValue\": 0.10942354224190756, \"simIndex\": 54.0, \"features\": {\"0\": {\"effect\": 0.011282823232919783, \"value\": 0.6463098325866539}, \"1\": {\"effect\": 0.007068814519997369, \"value\": 0.6388954448902529}, \"2\": {\"effect\": 0.009281526081291232, \"value\": 0.653744915051448}, \"3\": {\"effect\": 0.011739736513358665, \"value\": 0.6392899408284025}}}, {\"outValue\": 0.10129198955132727, \"simIndex\": 52.0, \"features\": {\"0\": {\"effect\": 0.009198055203373398, \"value\": 0.6458382456967691}, \"1\": {\"effect\": 0.005655246908450701, \"value\": 0.6504602312957282}, \"2\": {\"effect\": 0.007193470237155839, \"value\": 0.6633165829145731}, \"3\": {\"effect\": 0.00919457530800682, \"value\": 0.6494674556213016}}}, {\"outValue\": 0.09267258513693999, \"simIndex\": 49.0, \"features\": {\"0\": {\"effect\": 0.006588498730580167, \"value\": 0.6531478424899784}, \"1\": {\"effect\": 0.004189828198631805, \"value\": 0.6447958461175363}, \"2\": {\"effect\": 0.005078215440306795, \"value\": 0.6429767887054325}, \"3\": {\"effect\": 0.006765400873080715, \"value\": 0.6269822485207102}}}, {\"outValue\": 0.08344954264071902, \"simIndex\": 46.0, \"features\": {\"0\": {\"effect\": 0.0038027091013415554, \"value\": 0.6232020749823155}, \"1\": {\"effect\": 0.0025473617639385597, \"value\": 0.627094642435686}, \"2\": {\"effect\": 0.002959181564305615, \"value\": 0.6429767887054325}, \"3\": {\"effect\": 0.004089648316792779, \"value\": 0.6366863905325442}}}, {\"outValue\": 0.07474178791387995, \"simIndex\": 42.0, \"features\": {\"0\": {\"effect\": 0.0014068489420079203, \"value\": 0.6331053996698888}, \"1\": {\"effect\": 0.0008798633286532999, \"value\": 0.620250177012037}, \"2\": {\"effect\": 0.001014796422404622, \"value\": 0.631012203876526}, \"3\": {\"effect\": 0.0013896373264735854, \"value\": 0.6222485207100594}}}], \"plot_cmap\": \"RdBu\", \"ordering_keys\": null, \"ordering_keys_time_format\": null}),\n",
       "    document.getElementById('i7ZK8I77LGV129DFJLXHY')\n",
       "  );\n",
       "</script>"
      ],
      "text/plain": [
       "<IPython.core.display.HTML object>"
      ]
     },
     "execution_count": 33,
     "metadata": {},
     "output_type": "execute_result"
    }
   ],
   "source": [
    "shap.force_plot(explainer.expected_value[0], shap_values[0][3], X_test[0])"
   ]
  },
  {
   "cell_type": "code",
   "execution_count": 91,
   "metadata": {
    "scrolled": true
   },
   "outputs": [
    {
     "data": {
      "text/plain": [
       "array([[ 1.03972502e-09],\n",
       "       [ 7.34667956e-10],\n",
       "       [ 4.56062648e-10],\n",
       "       [ 2.06659585e-10],\n",
       "       [-3.32057038e-11],\n",
       "       [-3.13042573e-10],\n",
       "       [-7.21803853e-10],\n",
       "       [-1.29598771e-09],\n",
       "       [-2.01633010e-09],\n",
       "       [-2.86706103e-09],\n",
       "       [-3.95642056e-09],\n",
       "       [-4.85586641e-09],\n",
       "       [-4.75477194e-09],\n",
       "       [-2.10612076e-09],\n",
       "       [ 3.72895541e-09],\n",
       "       [ 1.28562983e-08],\n",
       "       [ 2.56092878e-08],\n",
       "       [ 4.28919895e-08],\n",
       "       [ 6.61778282e-08],\n",
       "       [ 9.97845978e-08],\n",
       "       [ 1.42837155e-07],\n",
       "       [ 2.13512055e-07],\n",
       "       [ 3.02760000e-07],\n",
       "       [ 4.45241689e-07],\n",
       "       [ 7.31097630e-07],\n",
       "       [ 1.03666356e-06],\n",
       "       [ 1.37848867e-06],\n",
       "       [ 1.63214264e-06],\n",
       "       [ 1.86457337e-06],\n",
       "       [ 1.99263444e-06],\n",
       "       [ 2.19235511e-06],\n",
       "       [ 2.99771425e-06],\n",
       "       [ 5.13316146e-06],\n",
       "       [ 8.92575201e-06],\n",
       "       [ 1.34888681e-05],\n",
       "       [ 1.62400543e-05],\n",
       "       [ 1.40104500e-05],\n",
       "       [ 7.25258983e-06],\n",
       "       [ 4.50914396e-06],\n",
       "       [ 2.41029853e-05],\n",
       "       [ 9.08424731e-05],\n",
       "       [ 2.20382897e-04],\n",
       "       [ 4.10498706e-04],\n",
       "       [ 5.52836388e-04],\n",
       "       [ 5.24979210e-04],\n",
       "       [ 2.79621777e-04],\n",
       "       [ 7.24807892e-05],\n",
       "       [ 6.42676881e-04],\n",
       "       [ 2.96143455e-03],\n",
       "       [ 7.36906227e-03],\n",
       "       [ 1.23116950e-02],\n",
       "       [ 1.46693974e-02],\n",
       "       [ 9.14801840e-03],\n",
       "       [-5.30559123e-03],\n",
       "       [-1.99226185e-02],\n",
       "       [-1.37187965e-02],\n",
       "       [ 3.81870620e-02],\n",
       "       [ 1.34311720e-01],\n",
       "       [ 2.17545685e-01],\n",
       "       [ 1.84277269e-01]])"
      ]
     },
     "execution_count": 91,
     "metadata": {},
     "output_type": "execute_result"
    }
   ],
   "source": [
    " shap_values[0][1]"
   ]
  },
  {
   "cell_type": "code",
   "execution_count": null,
   "metadata": {},
   "outputs": [],
   "source": []
  },
  {
   "cell_type": "code",
   "execution_count": null,
   "metadata": {},
   "outputs": [],
   "source": []
  }
 ],
 "metadata": {
  "hide_input": false,
  "kernelspec": {
   "display_name": "Python 3",
   "language": "python",
   "name": "python3"
  },
  "varInspector": {
   "cols": {
    "lenName": 16,
    "lenType": 16,
    "lenVar": 40
   },
   "kernels_config": {
    "python": {
     "delete_cmd_postfix": "",
     "delete_cmd_prefix": "del ",
     "library": "var_list.py",
     "varRefreshCmd": "print(var_dic_list())"
    },
    "r": {
     "delete_cmd_postfix": ") ",
     "delete_cmd_prefix": "rm(",
     "library": "var_list.r",
     "varRefreshCmd": "cat(var_dic_list()) "
    }
   },
   "types_to_exclude": [
    "module",
    "function",
    "builtin_function_or_method",
    "instance",
    "_Feature"
   ],
   "window_display": true
  }
 },
 "nbformat": 4,
 "nbformat_minor": 2
}
